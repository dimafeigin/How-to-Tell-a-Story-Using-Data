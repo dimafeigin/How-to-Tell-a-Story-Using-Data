{
 "cells": [
  {
   "cell_type": "markdown",
   "metadata": {},
   "source": [
    "<div class=\"alert alert-block alert-success\">\n",
    "<b>Reviewer's comment 2</b> <a class=\"tocSkip\"></a>\n",
    "\n",
    "Hello again! Sorry for the long time review. You did good fixes, thank you for your work. Good luck in the next project :)\n",
    "</div>"
   ]
  },
  {
   "cell_type": "markdown",
   "metadata": {},
   "source": [
    "<b>Reviewer's comment</b>\n",
    "\n",
    "Hello, Dima! My name is Andrey Isupov. I checked your project. You did a very good job on the project. But there are few things that need fix. I think it is not so difficult for you and you will quickly cope with it. Good luck :)\n",
    "\n",
    "Below you will find my comments - **please do not move, modify or delete them**.\n",
    "\n",
    "You can find my comments in green, yellow or red boxes like this:\n",
    "\n",
    "<div class=\"alert alert-block alert-success\">\n",
    "<b>Reviewer's comment</b> <a class=\"tocSkip\"></a>\n",
    "\n",
    "Success. Everything is done succesfully.\n",
    "</div>\n",
    "\n",
    "<div class=\"alert alert-block alert-warning\">\n",
    "<b>Reviewer's comment</b> <a class=\"tocSkip\"></a>\n",
    "\n",
    "Remarks. Some recommendations.\n",
    "</div>\n",
    "\n",
    "<div class=\"alert alert-block alert-danger\">\n",
    "\n",
    "<b>Reviewer's comment</b> <a class=\"tocSkip\"></a>\n",
    "\n",
    "Needs fixing. The block requires some corrections. Work can't be accepted with the red comments.\n",
    "</div>\n",
    "\n",
    "You can answer me by using this:\n",
    "\n",
    "<div class=\"alert alert-block alert-info\">\n",
    "<b>Student answer.</b> <a class=\"tocSkip\"></a>\n",
    "\n",
    "Sample text\n",
    "</div>"
   ]
  },
  {
   "cell_type": "markdown",
   "metadata": {},
   "source": [
    " **You’ve decided to open a small robot-run cafe in Los Angeles. The project is promising but expensive, so you and your partners decide to try to attract investors. They’re interested in the current market conditions—will you be able to maintain your success when the novelty of robot waiters wears off?You’re an analytics guru, so your partners have asked you to prepare some market research. You have open-source data on restaurants in LA**\n"
   ]
  },
  {
   "cell_type": "markdown",
   "metadata": {},
   "source": [
    "<div class=\"alert alert-block alert-success\">\n",
    "<b>Reviewer's comment</b> <a class=\"tocSkip\"></a>\n",
    "\n",
    "Thanks for the description\n",
    "</div>"
   ]
  },
  {
   "cell_type": "code",
   "execution_count": 1,
   "metadata": {},
   "outputs": [],
   "source": [
    "!pip install -Uq sidetable"
   ]
  },
  {
   "cell_type": "markdown",
   "metadata": {},
   "source": [
    "<div class=\"alert alert-block alert-success\">\n",
    "<b>Reviewer's comment</b> <a class=\"tocSkip\"></a>\n",
    "\n",
    "Now our libraries exactly match👍\n",
    "</div>"
   ]
  },
  {
   "cell_type": "code",
   "execution_count": 2,
   "metadata": {},
   "outputs": [],
   "source": [
    "from matplotlib import ticker\n",
    "import pandas as pd\n",
    "from matplotlib import pyplot as plt\n",
    "import seaborn as sns\n",
    "import numpy as np\n",
    "from matplotlib.ticker import PercentFormatter\n",
    "from matplotlib.ticker import FuncFormatter\n",
    "import matplotlib.ticker as mtick\n",
    "\n",
    "import matplotlib.patches as mpatches\n",
    "plt.style.use('fivethirtyeight')\n",
    "import warnings\n",
    "warnings.filterwarnings('ignore')"
   ]
  },
  {
   "cell_type": "markdown",
   "metadata": {},
   "source": [
    "##  Download the data and prepare it for analysis\n"
   ]
  },
  {
   "cell_type": "code",
   "execution_count": 3,
   "metadata": {},
   "outputs": [],
   "source": [
    "rest_data_us = pd.read_csv('/datasets/rest_data_us.csv')"
   ]
  },
  {
   "cell_type": "code",
   "execution_count": 4,
   "metadata": {},
   "outputs": [
    {
     "data": {
      "text/html": [
       "<div>\n",
       "<style scoped>\n",
       "    .dataframe tbody tr th:only-of-type {\n",
       "        vertical-align: middle;\n",
       "    }\n",
       "\n",
       "    .dataframe tbody tr th {\n",
       "        vertical-align: top;\n",
       "    }\n",
       "\n",
       "    .dataframe thead th {\n",
       "        text-align: right;\n",
       "    }\n",
       "</style>\n",
       "<table border=\"1\" class=\"dataframe\">\n",
       "  <thead>\n",
       "    <tr style=\"text-align: right;\">\n",
       "      <th></th>\n",
       "      <th>id</th>\n",
       "      <th>object_name</th>\n",
       "      <th>address</th>\n",
       "      <th>chain</th>\n",
       "      <th>object_type</th>\n",
       "      <th>number</th>\n",
       "    </tr>\n",
       "  </thead>\n",
       "  <tbody>\n",
       "    <tr>\n",
       "      <th>0</th>\n",
       "      <td>11786</td>\n",
       "      <td>HABITAT COFFEE SHOP</td>\n",
       "      <td>3708 N EAGLE ROCK BLVD</td>\n",
       "      <td>False</td>\n",
       "      <td>Cafe</td>\n",
       "      <td>26</td>\n",
       "    </tr>\n",
       "    <tr>\n",
       "      <th>1</th>\n",
       "      <td>11787</td>\n",
       "      <td>REILLY'S</td>\n",
       "      <td>100 WORLD WAY # 120</td>\n",
       "      <td>False</td>\n",
       "      <td>Restaurant</td>\n",
       "      <td>9</td>\n",
       "    </tr>\n",
       "    <tr>\n",
       "      <th>2</th>\n",
       "      <td>11788</td>\n",
       "      <td>STREET CHURROS</td>\n",
       "      <td>6801 HOLLYWOOD BLVD # 253</td>\n",
       "      <td>False</td>\n",
       "      <td>Fast Food</td>\n",
       "      <td>20</td>\n",
       "    </tr>\n",
       "    <tr>\n",
       "      <th>3</th>\n",
       "      <td>11789</td>\n",
       "      <td>TRINITI ECHO PARK</td>\n",
       "      <td>1814 W SUNSET BLVD</td>\n",
       "      <td>False</td>\n",
       "      <td>Restaurant</td>\n",
       "      <td>22</td>\n",
       "    </tr>\n",
       "    <tr>\n",
       "      <th>4</th>\n",
       "      <td>11790</td>\n",
       "      <td>POLLEN</td>\n",
       "      <td>2100 ECHO PARK AVE</td>\n",
       "      <td>False</td>\n",
       "      <td>Restaurant</td>\n",
       "      <td>20</td>\n",
       "    </tr>\n",
       "  </tbody>\n",
       "</table>\n",
       "</div>"
      ],
      "text/plain": [
       "      id          object_name                    address  chain object_type  \\\n",
       "0  11786  HABITAT COFFEE SHOP     3708 N EAGLE ROCK BLVD  False        Cafe   \n",
       "1  11787             REILLY'S        100 WORLD WAY # 120  False  Restaurant   \n",
       "2  11788       STREET CHURROS  6801 HOLLYWOOD BLVD # 253  False   Fast Food   \n",
       "3  11789    TRINITI ECHO PARK         1814 W SUNSET BLVD  False  Restaurant   \n",
       "4  11790               POLLEN         2100 ECHO PARK AVE  False  Restaurant   \n",
       "\n",
       "   number  \n",
       "0      26  \n",
       "1       9  \n",
       "2      20  \n",
       "3      22  \n",
       "4      20  "
      ]
     },
     "execution_count": 4,
     "metadata": {},
     "output_type": "execute_result"
    }
   ],
   "source": [
    "rest_data_us.head()"
   ]
  },
  {
   "cell_type": "markdown",
   "metadata": {},
   "source": [
    "**Data Source**\n",
    "\n",
    "* object_name — establishment name\n",
    "* chain — chain establishment (TRUE/FALSE)\n",
    "* object_type — establishment type\n",
    "* address — address\n",
    "* number — number of seat"
   ]
  },
  {
   "cell_type": "code",
   "execution_count": 5,
   "metadata": {},
   "outputs": [
    {
     "data": {
      "text/plain": [
       "id             7255\n",
       "object_name    7255\n",
       "address        7255\n",
       "chain          7253\n",
       "object_type    7255\n",
       "number         7255\n",
       "dtype: int64"
      ]
     },
     "execution_count": 5,
     "metadata": {},
     "output_type": "execute_result"
    }
   ],
   "source": [
    "rest_data_us[rest_data_us['object_type']== 'Restaurant'].count()"
   ]
  },
  {
   "cell_type": "code",
   "execution_count": 6,
   "metadata": {},
   "outputs": [
    {
     "data": {
      "text/html": [
       "<div>\n",
       "<style scoped>\n",
       "    .dataframe tbody tr th:only-of-type {\n",
       "        vertical-align: middle;\n",
       "    }\n",
       "\n",
       "    .dataframe tbody tr th {\n",
       "        vertical-align: top;\n",
       "    }\n",
       "\n",
       "    .dataframe thead th {\n",
       "        text-align: right;\n",
       "    }\n",
       "</style>\n",
       "<table border=\"1\" class=\"dataframe\">\n",
       "  <thead>\n",
       "    <tr style=\"text-align: right;\">\n",
       "      <th></th>\n",
       "      <th>id</th>\n",
       "      <th>number</th>\n",
       "    </tr>\n",
       "  </thead>\n",
       "  <tbody>\n",
       "    <tr>\n",
       "      <th>count</th>\n",
       "      <td>9651.000000</td>\n",
       "      <td>9651.000000</td>\n",
       "    </tr>\n",
       "    <tr>\n",
       "      <th>mean</th>\n",
       "      <td>16611.000000</td>\n",
       "      <td>43.695161</td>\n",
       "    </tr>\n",
       "    <tr>\n",
       "      <th>std</th>\n",
       "      <td>2786.148058</td>\n",
       "      <td>47.622874</td>\n",
       "    </tr>\n",
       "    <tr>\n",
       "      <th>min</th>\n",
       "      <td>11786.000000</td>\n",
       "      <td>1.000000</td>\n",
       "    </tr>\n",
       "    <tr>\n",
       "      <th>25%</th>\n",
       "      <td>14198.500000</td>\n",
       "      <td>14.000000</td>\n",
       "    </tr>\n",
       "    <tr>\n",
       "      <th>50%</th>\n",
       "      <td>16611.000000</td>\n",
       "      <td>27.000000</td>\n",
       "    </tr>\n",
       "    <tr>\n",
       "      <th>75%</th>\n",
       "      <td>19023.500000</td>\n",
       "      <td>46.000000</td>\n",
       "    </tr>\n",
       "    <tr>\n",
       "      <th>max</th>\n",
       "      <td>21436.000000</td>\n",
       "      <td>229.000000</td>\n",
       "    </tr>\n",
       "  </tbody>\n",
       "</table>\n",
       "</div>"
      ],
      "text/plain": [
       "                 id       number\n",
       "count   9651.000000  9651.000000\n",
       "mean   16611.000000    43.695161\n",
       "std     2786.148058    47.622874\n",
       "min    11786.000000     1.000000\n",
       "25%    14198.500000    14.000000\n",
       "50%    16611.000000    27.000000\n",
       "75%    19023.500000    46.000000\n",
       "max    21436.000000   229.000000"
      ]
     },
     "execution_count": 6,
     "metadata": {},
     "output_type": "execute_result"
    }
   ],
   "source": [
    "rest_data_us.describe()"
   ]
  },
  {
   "cell_type": "code",
   "execution_count": 7,
   "metadata": {},
   "outputs": [
    {
     "name": "stdout",
     "output_type": "stream",
     "text": [
      "<class 'pandas.core.frame.DataFrame'>\n",
      "RangeIndex: 9651 entries, 0 to 9650\n",
      "Data columns (total 6 columns):\n",
      " #   Column       Non-Null Count  Dtype \n",
      "---  ------       --------------  ----- \n",
      " 0   id           9651 non-null   int64 \n",
      " 1   object_name  9651 non-null   object\n",
      " 2   address      9651 non-null   object\n",
      " 3   chain        9648 non-null   object\n",
      " 4   object_type  9651 non-null   object\n",
      " 5   number       9651 non-null   int64 \n",
      "dtypes: int64(2), object(4)\n",
      "memory usage: 452.5+ KB\n"
     ]
    }
   ],
   "source": [
    "rest_data_us.info()"
   ]
  },
  {
   "cell_type": "code",
   "execution_count": 8,
   "metadata": {},
   "outputs": [
    {
     "data": {
      "text/plain": [
       "id             0\n",
       "object_name    0\n",
       "address        0\n",
       "chain          3\n",
       "object_type    0\n",
       "number         0\n",
       "dtype: int64"
      ]
     },
     "execution_count": 8,
     "metadata": {},
     "output_type": "execute_result"
    }
   ],
   "source": [
    "rest_data_us.isnull().sum()"
   ]
  },
  {
   "cell_type": "markdown",
   "metadata": {},
   "source": [
    "we can see that there is 3 missing values in chain column so we can replace them with mode "
   ]
  },
  {
   "cell_type": "code",
   "execution_count": 9,
   "metadata": {},
   "outputs": [
    {
     "data": {
      "text/plain": [
       "0"
      ]
     },
     "execution_count": 9,
     "metadata": {},
     "output_type": "execute_result"
    }
   ],
   "source": [
    "rest_data_us['chain'].fillna(rest_data_us['chain'].mode, inplace=True)\n",
    "rest_data_us['chain'].isnull().sum()"
   ]
  },
  {
   "cell_type": "markdown",
   "metadata": {},
   "source": [
    "no missing values"
   ]
  },
  {
   "cell_type": "code",
   "execution_count": 10,
   "metadata": {},
   "outputs": [
    {
     "name": "stdout",
     "output_type": "stream",
     "text": [
      "<class 'pandas.core.frame.DataFrame'>\n",
      "RangeIndex: 9651 entries, 0 to 9650\n",
      "Data columns (total 6 columns):\n",
      " #   Column       Non-Null Count  Dtype \n",
      "---  ------       --------------  ----- \n",
      " 0   id           9651 non-null   int64 \n",
      " 1   object_name  9651 non-null   object\n",
      " 2   address      9651 non-null   object\n",
      " 3   chain        9651 non-null   object\n",
      " 4   object_type  9651 non-null   object\n",
      " 5   number       9651 non-null   int64 \n",
      "dtypes: int64(2), object(4)\n",
      "memory usage: 452.5+ KB\n"
     ]
    }
   ],
   "source": [
    "rest_data_us.info()"
   ]
  },
  {
   "cell_type": "code",
   "execution_count": 11,
   "metadata": {},
   "outputs": [
    {
     "data": {
      "text/plain": [
       "dtype('bool')"
      ]
     },
     "execution_count": 11,
     "metadata": {},
     "output_type": "execute_result"
    }
   ],
   "source": [
    "rest_data_us['chain'] = rest_data_us['chain'].apply(lambda x: bool(x))\n",
    "rest_data_us['chain'].dtypes"
   ]
  },
  {
   "cell_type": "code",
   "execution_count": 12,
   "metadata": {},
   "outputs": [
    {
     "data": {
      "text/plain": [
       "0"
      ]
     },
     "execution_count": 12,
     "metadata": {},
     "output_type": "execute_result"
    }
   ],
   "source": [
    "rest_data_us.duplicated().sum()"
   ]
  },
  {
   "cell_type": "markdown",
   "metadata": {},
   "source": [
    "<div class=\"alert alert-block alert-success\">\n",
    "<b>Reviewer's comment</b> <a class=\"tocSkip\"></a>\n",
    "\n",
    "Very good data preparation\n",
    "</div>"
   ]
  },
  {
   "cell_type": "markdown",
   "metadata": {},
   "source": [
    "##  Data analysis\n"
   ]
  },
  {
   "cell_type": "markdown",
   "metadata": {},
   "source": [
    "### Investigate the proportions of the various types of establishments. Plot a graph.\n"
   ]
  },
  {
   "cell_type": "markdown",
   "metadata": {},
   "source": [
    "establishment's and their count total \n"
   ]
  },
  {
   "cell_type": "code",
   "execution_count": 13,
   "metadata": {},
   "outputs": [
    {
     "data": {
      "text/plain": [
       "Restaurant    0.751736\n",
       "Fast Food     0.110455\n",
       "Cafe          0.045073\n",
       "Pizza         0.033157\n",
       "Bar           0.030256\n",
       "Bakery        0.029323\n",
       "Name: object_type, dtype: float64"
      ]
     },
     "execution_count": 13,
     "metadata": {},
     "output_type": "execute_result"
    }
   ],
   "source": [
    "establishment_proportion = rest_data_us['object_type'].value_counts(normalize=True)\n",
    "establishment_proportion"
   ]
  },
  {
   "cell_type": "code",
   "execution_count": 14,
   "metadata": {},
   "outputs": [
    {
     "data": {
      "image/png": "[encoded data removed]",
      "text/plain": [
       "<Figure size 864x360 with 1 Axes>"
      ]
     },
     "metadata": {},
     "output_type": "display_data"
    }
   ],
   "source": [
    "#plot\n",
    "fig,ax =plt.subplots(facecolor='white')\n",
    "establishment_proportion.plot(kind='bar',\n",
    "                                   figsize=(12, 5),\n",
    "                                   rot=0,\n",
    "                                   alpha=.5)\n",
    "ax.set_facecolor(\"white\")\n",
    "\n",
    "ax.yaxis.set_major_formatter(PercentFormatter(1))\n",
    "\n",
    "plt.ylabel('',labelpad=15)\n",
    "plt.xlabel('Establishment Type',labelpad=15)\n",
    "plt.title(\"proportions of the various types of establishments\",\n",
    "          fontweight='semibold' ,\n",
    "          fontsize=20,\n",
    "          x=.44,\n",
    "          pad=15)\n",
    "\n",
    "plt.show()"
   ]
  },
  {
   "cell_type": "markdown",
   "metadata": {},
   "source": [
    "<div class=\"alert alert-block alert-success\">\n",
    "<b>Reviewer's comment</b> <a class=\"tocSkip\"></a>\n",
    "\n",
    "I really like color and fontsize. Very beautiful\n",
    "</div>"
   ]
  },
  {
   "cell_type": "markdown",
   "metadata": {},
   "source": [
    "Roughly 75% of establishments in LA are restaurants with fast food being the next most common type of establishment Cafe the company's planned venue makes up 5% of establishments in LA."
   ]
  },
  {
   "cell_type": "markdown",
   "metadata": {},
   "source": [
    "### Investigate the proportions of chain and nonchain establishments. Plot a graph.\n"
   ]
  },
  {
   "cell_type": "code",
   "execution_count": 15,
   "metadata": {},
   "outputs": [
    {
     "data": {
      "text/plain": [
       "False    61.879598\n",
       "True     38.120402\n",
       "Name: chain, dtype: float64"
      ]
     },
     "execution_count": 15,
     "metadata": {},
     "output_type": "execute_result"
    }
   ],
   "source": [
    "proportion_chain = rest_data_us['chain'].value_counts(normalize=True) * 100\n",
    "proportion_chain"
   ]
  },
  {
   "cell_type": "code",
   "execution_count": 16,
   "metadata": {},
   "outputs": [
    {
     "data": {
      "image/png": "[encoded data removed]",
      "text/plain": [
       "<Figure size 432x288 with 1 Axes>"
      ]
     },
     "metadata": {},
     "output_type": "display_data"
    }
   ],
   "source": [
    "#plot\n",
    "fig, ax = plt.subplots(facecolor='white')\n",
    "\n",
    "patches, texts, autotexts = plt.pie(proportion_chain,\n",
    "                                    labels=['Non-Chain', 'Chain'],\n",
    "                                    labeldistance=1.1,\n",
    "                                    shadow=True,\n",
    "                                    colors=['green', 'red'],\n",
    "                                    autopct='%1.1f%%',\n",
    "                                    textprops={\n",
    "                                        'fontsize': 18,\n",
    "                                        'fontweight': 'bold'\n",
    "                                    },wedgeprops=dict(width=0.6),\n",
    "                                     startangle=90,\n",
    "                                    pctdistance=0.80,\n",
    "                                    radius=1.4)\n",
    "\n",
    "    \n",
    "plt.title(\"Proportion of LA Chain Establishments\",\n",
    "          pad=40,\n",
    "          size=25,\n",
    "          x=.5,\n",
    "          color='darkslategray',\n",
    "          fontname='sans-serif')\n",
    "\n",
    "plt.show()"
   ]
  },
  {
   "cell_type": "markdown",
   "metadata": {},
   "source": [
    "Non-chains  representing 2/3 of the LA establishments. Knowing the share of LA restaurants ."
   ]
  },
  {
   "cell_type": "markdown",
   "metadata": {},
   "source": [
    "<div class=\"alert alert-block alert-success\">\n",
    "<b>Reviewer's comment</b> <a class=\"tocSkip\"></a>\n",
    "\n",
    "Good that you use pie chart here\n",
    "</div>"
   ]
  },
  {
   "cell_type": "markdown",
   "metadata": {},
   "source": [
    "### Which type of establishment is typically a chain?\n"
   ]
  },
  {
   "cell_type": "code",
   "execution_count": 17,
   "metadata": {
    "scrolled": false
   },
   "outputs": [
    {
     "data": {
      "text/html": [
       "<div>\n",
       "<style scoped>\n",
       "    .dataframe tbody tr th:only-of-type {\n",
       "        vertical-align: middle;\n",
       "    }\n",
       "\n",
       "    .dataframe tbody tr th {\n",
       "        vertical-align: top;\n",
       "    }\n",
       "\n",
       "    .dataframe thead th {\n",
       "        text-align: right;\n",
       "    }\n",
       "</style>\n",
       "<table border=\"1\" class=\"dataframe\">\n",
       "  <thead>\n",
       "    <tr style=\"text-align: right;\">\n",
       "      <th></th>\n",
       "      <th>chain</th>\n",
       "    </tr>\n",
       "    <tr>\n",
       "      <th>object_type</th>\n",
       "      <th></th>\n",
       "    </tr>\n",
       "  </thead>\n",
       "  <tbody>\n",
       "    <tr>\n",
       "      <th>Bakery</th>\n",
       "      <td>1.000000</td>\n",
       "    </tr>\n",
       "    <tr>\n",
       "      <th>Cafe</th>\n",
       "      <td>0.611494</td>\n",
       "    </tr>\n",
       "    <tr>\n",
       "      <th>Fast Food</th>\n",
       "      <td>0.567542</td>\n",
       "    </tr>\n",
       "    <tr>\n",
       "      <th>Pizza</th>\n",
       "      <td>0.481250</td>\n",
       "    </tr>\n",
       "    <tr>\n",
       "      <th>Restaurant</th>\n",
       "      <td>0.316196</td>\n",
       "    </tr>\n",
       "    <tr>\n",
       "      <th>Bar</th>\n",
       "      <td>0.263699</td>\n",
       "    </tr>\n",
       "  </tbody>\n",
       "</table>\n",
       "</div>"
      ],
      "text/plain": [
       "                chain\n",
       "object_type          \n",
       "Bakery       1.000000\n",
       "Cafe         0.611494\n",
       "Fast Food    0.567542\n",
       "Pizza        0.481250\n",
       "Restaurant   0.316196\n",
       "Bar          0.263699"
      ]
     },
     "execution_count": 17,
     "metadata": {},
     "output_type": "execute_result"
    }
   ],
   "source": [
    "establishment_chain_proportion = rest_data_us.pivot_table(index='object_type',\n",
    "                                                values='chain').sort_values(\n",
    "                                                    'chain', ascending=False)\n",
    "establishment_chain_proportion\n"
   ]
  },
  {
   "cell_type": "code",
   "execution_count": 18,
   "metadata": {},
   "outputs": [
    {
     "data": {
      "image/png": "[encoded data removed]",
      "text/plain": [
       "<Figure size 792x432 with 1 Axes>"
      ]
     },
     "metadata": {},
     "output_type": "display_data"
    }
   ],
   "source": [
    "#plot\n",
    "fig, ax = plt.subplots(figsize=(11, 6), facecolor='white')\n",
    "ax.set_facecolor(\"xkcd:white\")\n",
    "establishment_chain_proportion.plot(kind='bar',\n",
    "                                    rot=0,\n",
    "                                    ax=ax,\n",
    "                                    alpha=.8,\n",
    "                                    legend=False)\n",
    "plt.axhline(.5, xmin=0, linewidth=2, linestyle='--', alpha=.7, color='gray')\n",
    "\n",
    "\n",
    "#tick \n",
    "ax.tick_params(axis='x', labelsize=17)\n",
    "ax.yaxis.set_major_formatter(PercentFormatter(1))\n",
    "\n",
    "\n",
    "#labels\n",
    "plt.xlabel(\"\")\n",
    "plt.xlabel('Establishment Type',labelpad=15)\n",
    "plt.ylabel('Chain %')\n",
    "plt.title(\"LA Establishments That Are Typically A Chain\",\n",
    "          fontsize=20,\n",
    "          x=.40,\n",
    "          pad=0,\n",
    "          fontweight='semibold')\n",
    "\n",
    "plt.show()\n"
   ]
  },
  {
   "cell_type": "markdown",
   "metadata": {},
   "source": [
    "<div class=\"alert alert-block alert-success\">\n",
    "<b>Reviewer's comment</b> <a class=\"tocSkip\"></a>\n",
    "\n",
    "Very good again\n",
    "</div>"
   ]
  },
  {
   "cell_type": "markdown",
   "metadata": {},
   "source": [
    "<div class=\"alert alert-block alert-danger\">\n",
    "<b>Reviewer's comment</b> <a class=\"tocSkip\"></a>\n",
    "\n",
    "But let's add yticks (percents), please\n",
    "</div>"
   ]
  },
  {
   "cell_type": "markdown",
   "metadata": {},
   "source": [
    "<div class=\"alert alert-block alert-success\">\n",
    "<b>Reviewer's comment 2</b> <a class=\"tocSkip\"></a>\n",
    "\n",
    "Perfect now!\n",
    "</div>"
   ]
  },
  {
   "cell_type": "markdown",
   "metadata": {},
   "source": [
    "Restaurants are less likely to be a chains; this is likely the reason why non-chains were well represented in the pie chart earlier. Of special consideration, is the company's  Cafes, and to be a chain rather than a non-chain."
   ]
  },
  {
   "cell_type": "markdown",
   "metadata": {},
   "source": [
    "### What characterizes chains: many establishments with a small number of seats or a few establishments with a lot of seats?"
   ]
  },
  {
   "cell_type": "code",
   "execution_count": 19,
   "metadata": {},
   "outputs": [
    {
     "data": {
      "text/plain": [
       "8       1\n",
       "10     38\n",
       "11     17\n",
       "12    133\n",
       "14     26\n",
       "15     21\n",
       "24     43\n",
       "27     80\n",
       "29     15\n",
       "31    118\n",
       "Name: number, dtype: int64"
      ]
     },
     "execution_count": 19,
     "metadata": {},
     "output_type": "execute_result"
    }
   ],
   "source": [
    "#series with # of seats for all chain establishments\n",
    "chain_seat_num = rest_data_us[rest_data_us['chain'] == True]['number']\n",
    "chain_seat_num.head(10)"
   ]
  },
  {
   "cell_type": "code",
   "execution_count": 20,
   "metadata": {},
   "outputs": [
    {
     "data": {
      "text/plain": [
       "count    3679.000000\n",
       "mean       39.675455\n",
       "std        43.426312\n",
       "min         1.000000\n",
       "25%        13.000000\n",
       "50%        25.000000\n",
       "75%        44.000000\n",
       "max       229.000000\n",
       "Name: number, dtype: float64"
      ]
     },
     "execution_count": 20,
     "metadata": {},
     "output_type": "execute_result"
    }
   ],
   "source": [
    "chain_seat_num.agg('mode')\n",
    "chain_seat_num.describe()"
   ]
  },
  {
   "cell_type": "code",
   "execution_count": 21,
   "metadata": {},
   "outputs": [
    {
     "name": "stdout",
     "output_type": "stream",
     "text": [
      "Less than or Equal to 49: [49 49 49 49 49 49 49 49 49 49]\n",
      "Greater than 49: [61 61 61 62 62 62 62 62 62 62]\n"
     ]
    }
   ],
   "source": [
    "print(\"Less than or Equal to 49:\",\n",
    "      chain_seat_num[chain_seat_num <= 49].sort_values().tail(10).values)\n",
    "\n",
    "print(\"Greater than 49:\",\n",
    "      chain_seat_num[chain_seat_num > 49].sort_values().head(10).values)"
   ]
  },
  {
   "cell_type": "markdown",
   "metadata": {},
   "source": [
    " To get a clearer view of how the establishment types differ among the seats,we splited them into two categories: \"few <50\" and \"many>50\" \n"
   ]
  },
  {
   "cell_type": "code",
   "execution_count": 22,
   "metadata": {},
   "outputs": [
    {
     "data": {
      "text/plain": [
       "0    few\n",
       "1    few\n",
       "2    few\n",
       "3    few\n",
       "4    few\n",
       "Name: seat, dtype: object"
      ]
     },
     "execution_count": 22,
     "metadata": {},
     "output_type": "execute_result"
    }
   ],
   "source": [
    "rest_data_us['seat'] = rest_data_us['number'].apply(\n",
    "    lambda x: 'few' if x < 50 else 'many')\n",
    "rest_data_us['seat'].head()"
   ]
  },
  {
   "cell_type": "code",
   "execution_count": 23,
   "metadata": {},
   "outputs": [
    {
     "data": {
      "image/png": "[encoded data removed]",
      "text/plain": [
       "<Figure size 936x432 with 1 Axes>"
      ]
     },
     "metadata": {},
     "output_type": "display_data"
    }
   ],
   "source": [
    "#plot\n",
    "fig, ax = plt.subplots(figsize=(13,6), facecolor='white')\n",
    "ax.set_facecolor(\"xkcd:white\")\n",
    "plt.hist(chain_seat_num, alpha=.6, bins=50)\n",
    "\n",
    "#shading and median\n",
    "\n",
    "plt.axvline(chain_seat_num.median(), color='gray', linewidth=.9)\n",
    "\n",
    "\n",
    "#annotate, despine, and grid\n",
    "plt.annotate(\"Median: \" + str(int(chain_seat_num.median())),\n",
    "             xy=(25, 350),\n",
    "             xytext=(40, 355),\n",
    "             color='darkslategray',\n",
    "             arrowprops=dict(arrowstyle=\"fancy\"))\n",
    "sns.despine()\n",
    "plt.grid(False, axis='x')\n",
    "\n",
    "#labels\n",
    "plt.title(\"LA Chain Establishments: Distribution of Seats\",\n",
    "          fontsize=21,\n",
    "          x=.28,\n",
    "          pad=20,\n",
    "          fontweight='bold')\n",
    "plt.xlabel('Number Of Seats', labelpad=15, fontsize=18)\n",
    "plt.ylabel('Count', labelpad=15, fontsize=18)\n",
    "\n",
    "plt.show()\n"
   ]
  },
  {
   "cell_type": "code",
   "execution_count": 24,
   "metadata": {},
   "outputs": [
    {
     "data": {
      "text/plain": [
       "few     0.825224\n",
       "many    0.174776\n",
       "Name: seat, dtype: float64"
      ]
     },
     "execution_count": 24,
     "metadata": {},
     "output_type": "execute_result"
    }
   ],
   "source": [
    "rest_data_us[rest_data_us['chain'] == True]['seat'].value_counts(normalize=True)\n"
   ]
  },
  {
   "cell_type": "markdown",
   "metadata": {},
   "source": [
    "Considering the proportionfor the \"many seats\" category, indicating that the chain establishments are characterized by a few establishments with a lot of seats."
   ]
  },
  {
   "cell_type": "markdown",
   "metadata": {},
   "source": [
    "<div class=\"alert alert-block alert-success\">\n",
    "<b>Reviewer's comment</b> <a class=\"tocSkip\"></a>\n",
    "\n",
    "Good\n",
    "</div>"
   ]
  },
  {
   "cell_type": "markdown",
   "metadata": {},
   "source": [
    "### Determine the average number of seats for each type of restaurant. On average, which type of restaurant has the greatest number of seats? Plot graphs."
   ]
  },
  {
   "cell_type": "code",
   "execution_count": 25,
   "metadata": {},
   "outputs": [
    {
     "data": {
      "text/html": [
       "<div>\n",
       "<style scoped>\n",
       "    .dataframe tbody tr th:only-of-type {\n",
       "        vertical-align: middle;\n",
       "    }\n",
       "\n",
       "    .dataframe tbody tr th {\n",
       "        vertical-align: top;\n",
       "    }\n",
       "\n",
       "    .dataframe thead th {\n",
       "        text-align: right;\n",
       "    }\n",
       "</style>\n",
       "<table border=\"1\" class=\"dataframe\">\n",
       "  <thead>\n",
       "    <tr style=\"text-align: right;\">\n",
       "      <th></th>\n",
       "      <th>number</th>\n",
       "    </tr>\n",
       "    <tr>\n",
       "      <th>object_type</th>\n",
       "      <th></th>\n",
       "    </tr>\n",
       "  </thead>\n",
       "  <tbody>\n",
       "    <tr>\n",
       "      <th>Bakery</th>\n",
       "      <td>21.773852</td>\n",
       "    </tr>\n",
       "    <tr>\n",
       "      <th>Bar</th>\n",
       "      <td>44.767123</td>\n",
       "    </tr>\n",
       "    <tr>\n",
       "      <th>Cafe</th>\n",
       "      <td>25.000000</td>\n",
       "    </tr>\n",
       "    <tr>\n",
       "      <th>Fast Food</th>\n",
       "      <td>31.837711</td>\n",
       "    </tr>\n",
       "    <tr>\n",
       "      <th>Pizza</th>\n",
       "      <td>28.459375</td>\n",
       "    </tr>\n",
       "  </tbody>\n",
       "</table>\n",
       "</div>"
      ],
      "text/plain": [
       "                number\n",
       "object_type           \n",
       "Bakery       21.773852\n",
       "Bar          44.767123\n",
       "Cafe         25.000000\n",
       "Fast Food    31.837711\n",
       "Pizza        28.459375"
      ]
     },
     "execution_count": 25,
     "metadata": {},
     "output_type": "execute_result"
    }
   ],
   "source": [
    "avg_seat_establishment = rest_data_us.pivot_table(index='object_type',\n",
    "                                        values='number',\n",
    "                                        margins=True,\n",
    "                                        aggfunc='mean')\n",
    "avg_seat_establishment.head()"
   ]
  },
  {
   "cell_type": "code",
   "execution_count": 26,
   "metadata": {},
   "outputs": [
    {
     "data": {
      "image/png": "[encoded data removed]",
      "text/plain": [
       "<Figure size 1008x432 with 1 Axes>"
      ]
     },
     "metadata": {},
     "output_type": "display_data"
    }
   ],
   "source": [
    "fig, ax = plt.subplots(figsize=(14,6), facecolor='white')\n",
    "ax.set_facecolor(\"ghostwhite\")\n",
    "avg_seat_establishment = rest_data_us.pivot_table(index='object_type',\n",
    "                                        values='number',\n",
    "                                        margins=True,\n",
    "                                        aggfunc='mean')\n",
    "color = [\n",
    "    'red' if int(i) > 40 else 'blue'\n",
    "    for i in avg_seat_establishment.sort_values('number').values]\n",
    "\n",
    "ax.barh(avg_seat_establishment.sort_values('number').index,\n",
    "        avg_seat_establishment.sort_values('number')['number'],\n",
    "        color=color,\n",
    "        alpha=.7)\n",
    "\n",
    "ax.tick_params(labelsize=15)\n",
    "ax.xaxis.set_major_locator(ticker.MultipleLocator(5))\n",
    "\n",
    "\n",
    "plt.grid(False, axis='y')\n",
    "plt.grid(axis='x', alpha=.4)\n",
    "\n",
    "plt.xlabel(\"Average Number of Seats\", labelpad=15, fontsize=20)\n",
    "plt.ylabel(\"\", labelpad=10, fontsize=20)\n",
    "plt.title(\n",
    "    \"Average Number of Seats in chain Establishments In LA\",\n",
    "    \n",
    "    pad=23,\n",
    "    size=20,\n",
    "    ha='center',\n",
    "    fontweight='semibold')\n",
    "\n",
    "plt.show()"
   ]
  },
  {
   "cell_type": "markdown",
   "metadata": {},
   "source": [
    "Restaurant and bar establishments containing a larger share of \"many seats\" relative to the other establishments."
   ]
  },
  {
   "cell_type": "markdown",
   "metadata": {},
   "source": [
    "<div class=\"alert alert-block alert-success\">\n",
    "<b>Reviewer's comment</b> <a class=\"tocSkip\"></a>\n",
    "\n",
    "Great\n",
    "</div>"
   ]
  },
  {
   "cell_type": "markdown",
   "metadata": {},
   "source": [
    "#### which type of restaurant has the greatest number of seats"
   ]
  },
  {
   "cell_type": "code",
   "execution_count": 27,
   "metadata": {},
   "outputs": [
    {
     "data": {
      "text/plain": [
       "few     89.190317\n",
       "many    10.809683\n",
       "Name: seat, dtype: float64"
      ]
     },
     "execution_count": 27,
     "metadata": {},
     "output_type": "execute_result"
    }
   ],
   "source": [
    "rest_data_us.query(\"object_type not in ['Restaurant']\")['seat'].value_counts(\n",
    "    normalize=True) * 100"
   ]
  },
  {
   "cell_type": "code",
   "execution_count": 28,
   "metadata": {},
   "outputs": [
    {
     "data": {
      "text/plain": [
       "few     76.154376\n",
       "many    23.845624\n",
       "Name: seat, dtype: float64"
      ]
     },
     "execution_count": 28,
     "metadata": {},
     "output_type": "execute_result"
    }
   ],
   "source": [
    "rest_data_us.query(\"object_type in ['Restaurant']\")['seat'].value_counts(\n",
    "    normalize=True) * 100"
   ]
  },
  {
   "cell_type": "markdown",
   "metadata": {},
   "source": [
    " 9% of establishments with a relatively low avg. seat count contain many seats. In comparison, those with a high avg count, Restaurants, have more than double that proportion around 23% of establishments with many seats"
   ]
  },
  {
   "cell_type": "markdown",
   "metadata": {},
   "source": [
    "### Put the data on street names from the address column in a separate column.\n"
   ]
  },
  {
   "cell_type": "code",
   "execution_count": 29,
   "metadata": {},
   "outputs": [],
   "source": [
    "ending_Ofinterest = ['BLVD','ST','AVE','RD','DR','WAY']\n"
   ]
  },
  {
   "cell_type": "code",
   "execution_count": 30,
   "metadata": {},
   "outputs": [],
   "source": [
    "extra=['WORLD WAY', 'W SUNSET BLVD', 'ECHO PARK AVE', 'NATIONAL BLVD', 'W 6TH ST STE', 'N CAHUENGA BLVD', 'S WESTERN AVE STE', 'WILSHIRE BLVD', 'S OXFORD AVE', 'MELROSE AVE', 'WALL ST STE', 'S SAN VICENTE BLVD', 'S INDIANA ST', 'N LA CIENEGA BLVD', 'W 3RD ST', 'S ALVARADO ST STE 111C', 'WALL ST', 'S WESTERN AVE', 'W SUNSET BLVD STE', 'GLENDALE BLVD', 'N FIGUEROA ST', 'W PICO BLVD', 'WORLD WAY LVL6 SP5', 'W OLYMPIC BLVD', 'S FLOWER ST STE B420', 'N VINE ST', 'W 5TH ST', 'S HOPE ST', 'HOLLYWOOD BLVD', 'KNOX AVE', 'AIRPORT BLVD', 'S FLOWER ST B-270', 'MARIACHI PLZ', 'ROSWELL ST', 'FRANKLIN AVE', 'S FLOWER ST', 'WORLD WAY 7C', 'W OLYMPIC BLVD STE', 'S GRAND AVE', 'S FLOWER ST B-15', 'WORLD WAY S4', 'E OLYMPIC BLVD', 'PASADENA AVE', 'WORLD WAY T81', 'WORLD WAY 5TH FLR', 'N GLENDALE BLVD', 'HOLLYWOOD BLVD -221', 'HOLLYWOOD BLVD STE', 'AVION DR', 'W MANCHESTER AVE LOS', 'E 11TH ST', 'CAHUENGA BLVD W', 'S FIGUEROA ST LBBY LOBBY', 'N FAIRFAX AVE STE', 'BEVERLY BLVD', 'W MANCHESTER AVE', 'COLORADO BLVD STE', 'W SUNSET BLVD A120', 'WESTWOOD PLZ', 'WESTWOOD PLZ A233B', 'W CHICK HEARN CT', 'W 6TH ST', 'WORLD WAY T38', 'LOS FELIZ BLVD STE', 'E 7TH ST', 'WORLD WAY T48', 'E CESAR E CHAVEZ AVE', 'PORTER ST', 'S NORMANDIE AVE', 'GAYLEY AVE', 'S SOTO ST', 'E 59TH ST', 'SUNSET BLVD', 'W SLAUSON AVE', 'WILSHIRE BLVD STE A3-A5', 'W 8TH ST', 'E 4TH ST', 'N LA BREA AVE', 'SOTO ST STE', 'S SEPULVEDA BLVD', 'WHITTIER BLVD', 'S VERMONT AVE', 'W 6TH ST 2B', 'W 87TH ST', 'DIVISION ST', 'S FIGUEROA ST STE 418A', 'S CENTRAL AVE', 'WABASH AVE', 'S BROADWAY', 'CRENSHAW BLVD', 'S NEW HAMPSHIRE AVE F1', 'S SERRANO AVE', 'S FIGUEROA ST 35TH', 'W 6TH ST A', 'LA PUERTA ST', 'W CENTURY BLVD', 'S LA BREA AVE', 'SANTEE ST', 'WILSHIRE BLVD STE I', 'LINCOLN BLVD', 'S IROLO ST STE', 'W 7TH ST', 'W TEMPLE ST']"
   ]
  },
  {
   "cell_type": "code",
   "execution_count": 31,
   "metadata": {},
   "outputs": [],
   "source": [
    "def filters(extra):\n",
    "    new= []\n",
    "    y=extra.split(' ')\n",
    "    for i in y:\n",
    "        if i in ending_Ofinterest and i != 'STE': \n",
    "            new.append(i)\n",
    "            return \" \".join(new)\n",
    "        elif i == 'STE':\n",
    "            return \" \".join(new)\n",
    "        new.append(i)\n",
    "    return \" \".join(new)\n",
    "                "
   ]
  },
  {
   "cell_type": "code",
   "execution_count": 32,
   "metadata": {},
   "outputs": [],
   "source": [
    "def get_street(x):\n",
    "    split_address = x.replace(\"#\", \"\").replace(\"/\", \"\").split()\n",
    "    new = []\n",
    "    for i in split_address:\n",
    "        if i.isdigit():\n",
    "            continue\n",
    "        else:\n",
    "            new.append(i)\n",
    "    return ' '.join(new)"
   ]
  },
  {
   "cell_type": "code",
   "execution_count": 33,
   "metadata": {},
   "outputs": [],
   "source": [
    "rest_data_us['street'] = rest_data_us['address'].apply(\n",
    "    lambda x: get_street(x)).apply(lambda x: filters(x))"
   ]
  },
  {
   "cell_type": "code",
   "execution_count": 34,
   "metadata": {},
   "outputs": [
    {
     "data": {
      "text/html": [
       "<div>\n",
       "<style scoped>\n",
       "    .dataframe tbody tr th:only-of-type {\n",
       "        vertical-align: middle;\n",
       "    }\n",
       "\n",
       "    .dataframe tbody tr th {\n",
       "        vertical-align: top;\n",
       "    }\n",
       "\n",
       "    .dataframe thead th {\n",
       "        text-align: right;\n",
       "    }\n",
       "</style>\n",
       "<table border=\"1\" class=\"dataframe\">\n",
       "  <thead>\n",
       "    <tr style=\"text-align: right;\">\n",
       "      <th></th>\n",
       "      <th>id</th>\n",
       "      <th>object_name</th>\n",
       "      <th>address</th>\n",
       "      <th>chain</th>\n",
       "      <th>object_type</th>\n",
       "      <th>number</th>\n",
       "      <th>seat</th>\n",
       "      <th>street</th>\n",
       "    </tr>\n",
       "  </thead>\n",
       "  <tbody>\n",
       "    <tr>\n",
       "      <th>0</th>\n",
       "      <td>11786</td>\n",
       "      <td>HABITAT COFFEE SHOP</td>\n",
       "      <td>3708 N EAGLE ROCK BLVD</td>\n",
       "      <td>False</td>\n",
       "      <td>Cafe</td>\n",
       "      <td>26</td>\n",
       "      <td>few</td>\n",
       "      <td>N EAGLE ROCK BLVD</td>\n",
       "    </tr>\n",
       "    <tr>\n",
       "      <th>1</th>\n",
       "      <td>11787</td>\n",
       "      <td>REILLY'S</td>\n",
       "      <td>100 WORLD WAY # 120</td>\n",
       "      <td>False</td>\n",
       "      <td>Restaurant</td>\n",
       "      <td>9</td>\n",
       "      <td>few</td>\n",
       "      <td>WORLD WAY</td>\n",
       "    </tr>\n",
       "    <tr>\n",
       "      <th>2</th>\n",
       "      <td>11788</td>\n",
       "      <td>STREET CHURROS</td>\n",
       "      <td>6801 HOLLYWOOD BLVD # 253</td>\n",
       "      <td>False</td>\n",
       "      <td>Fast Food</td>\n",
       "      <td>20</td>\n",
       "      <td>few</td>\n",
       "      <td>HOLLYWOOD BLVD</td>\n",
       "    </tr>\n",
       "    <tr>\n",
       "      <th>3</th>\n",
       "      <td>11789</td>\n",
       "      <td>TRINITI ECHO PARK</td>\n",
       "      <td>1814 W SUNSET BLVD</td>\n",
       "      <td>False</td>\n",
       "      <td>Restaurant</td>\n",
       "      <td>22</td>\n",
       "      <td>few</td>\n",
       "      <td>W SUNSET BLVD</td>\n",
       "    </tr>\n",
       "    <tr>\n",
       "      <th>4</th>\n",
       "      <td>11790</td>\n",
       "      <td>POLLEN</td>\n",
       "      <td>2100 ECHO PARK AVE</td>\n",
       "      <td>False</td>\n",
       "      <td>Restaurant</td>\n",
       "      <td>20</td>\n",
       "      <td>few</td>\n",
       "      <td>ECHO PARK AVE</td>\n",
       "    </tr>\n",
       "  </tbody>\n",
       "</table>\n",
       "</div>"
      ],
      "text/plain": [
       "      id          object_name                    address  chain object_type  \\\n",
       "0  11786  HABITAT COFFEE SHOP     3708 N EAGLE ROCK BLVD  False        Cafe   \n",
       "1  11787             REILLY'S        100 WORLD WAY # 120  False  Restaurant   \n",
       "2  11788       STREET CHURROS  6801 HOLLYWOOD BLVD # 253  False   Fast Food   \n",
       "3  11789    TRINITI ECHO PARK         1814 W SUNSET BLVD  False  Restaurant   \n",
       "4  11790               POLLEN         2100 ECHO PARK AVE  False  Restaurant   \n",
       "\n",
       "   number seat             street  \n",
       "0      26  few  N EAGLE ROCK BLVD  \n",
       "1       9  few          WORLD WAY  \n",
       "2      20  few     HOLLYWOOD BLVD  \n",
       "3      22  few      W SUNSET BLVD  \n",
       "4      20  few      ECHO PARK AVE  "
      ]
     },
     "execution_count": 34,
     "metadata": {},
     "output_type": "execute_result"
    }
   ],
   "source": [
    "rest_data_us.head()"
   ]
  },
  {
   "cell_type": "markdown",
   "metadata": {},
   "source": [
    "<div class=\"alert alert-block alert-success\">\n",
    "<b>Reviewer's comment</b> <a class=\"tocSkip\"></a>\n",
    "\n",
    "Very interesting way)\n",
    "</div>"
   ]
  },
  {
   "cell_type": "markdown",
   "metadata": {},
   "source": [
    "### Plot a graph of the top ten streets by number of restaurants.\n"
   ]
  },
  {
   "cell_type": "code",
   "execution_count": 35,
   "metadata": {},
   "outputs": [],
   "source": [
    "only_restaurant = rest_data_us[rest_data_us['object_type'] == 'Restaurant']"
   ]
  },
  {
   "cell_type": "code",
   "execution_count": 36,
   "metadata": {},
   "outputs": [
    {
     "data": {
      "text/html": [
       "<div>\n",
       "<style scoped>\n",
       "    .dataframe tbody tr th:only-of-type {\n",
       "        vertical-align: middle;\n",
       "    }\n",
       "\n",
       "    .dataframe tbody tr th {\n",
       "        vertical-align: top;\n",
       "    }\n",
       "\n",
       "    .dataframe thead th {\n",
       "        text-align: right;\n",
       "    }\n",
       "</style>\n",
       "<table border=\"1\" class=\"dataframe\">\n",
       "  <thead>\n",
       "    <tr style=\"text-align: right;\">\n",
       "      <th></th>\n",
       "      <th>id</th>\n",
       "      <th>object_name</th>\n",
       "      <th>address</th>\n",
       "      <th>chain</th>\n",
       "      <th>object_type</th>\n",
       "      <th>number</th>\n",
       "      <th>seat</th>\n",
       "      <th>street</th>\n",
       "    </tr>\n",
       "  </thead>\n",
       "  <tbody>\n",
       "    <tr>\n",
       "      <th>1</th>\n",
       "      <td>11787</td>\n",
       "      <td>REILLY'S</td>\n",
       "      <td>100 WORLD WAY # 120</td>\n",
       "      <td>False</td>\n",
       "      <td>Restaurant</td>\n",
       "      <td>9</td>\n",
       "      <td>few</td>\n",
       "      <td>WORLD WAY</td>\n",
       "    </tr>\n",
       "    <tr>\n",
       "      <th>3</th>\n",
       "      <td>11789</td>\n",
       "      <td>TRINITI ECHO PARK</td>\n",
       "      <td>1814 W SUNSET BLVD</td>\n",
       "      <td>False</td>\n",
       "      <td>Restaurant</td>\n",
       "      <td>22</td>\n",
       "      <td>few</td>\n",
       "      <td>W SUNSET BLVD</td>\n",
       "    </tr>\n",
       "    <tr>\n",
       "      <th>4</th>\n",
       "      <td>11790</td>\n",
       "      <td>POLLEN</td>\n",
       "      <td>2100 ECHO PARK AVE</td>\n",
       "      <td>False</td>\n",
       "      <td>Restaurant</td>\n",
       "      <td>20</td>\n",
       "      <td>few</td>\n",
       "      <td>ECHO PARK AVE</td>\n",
       "    </tr>\n",
       "    <tr>\n",
       "      <th>5</th>\n",
       "      <td>11791</td>\n",
       "      <td>THE SPOT GRILL</td>\n",
       "      <td>10004 NATIONAL BLVD</td>\n",
       "      <td>False</td>\n",
       "      <td>Restaurant</td>\n",
       "      <td>14</td>\n",
       "      <td>few</td>\n",
       "      <td>NATIONAL BLVD</td>\n",
       "    </tr>\n",
       "    <tr>\n",
       "      <th>6</th>\n",
       "      <td>11792</td>\n",
       "      <td>CPK</td>\n",
       "      <td>100 WORLD WAY # 126</td>\n",
       "      <td>False</td>\n",
       "      <td>Restaurant</td>\n",
       "      <td>100</td>\n",
       "      <td>many</td>\n",
       "      <td>WORLD WAY</td>\n",
       "    </tr>\n",
       "  </tbody>\n",
       "</table>\n",
       "</div>"
      ],
      "text/plain": [
       "      id        object_name              address  chain object_type  number  \\\n",
       "1  11787           REILLY'S  100 WORLD WAY # 120  False  Restaurant       9   \n",
       "3  11789  TRINITI ECHO PARK   1814 W SUNSET BLVD  False  Restaurant      22   \n",
       "4  11790             POLLEN   2100 ECHO PARK AVE  False  Restaurant      20   \n",
       "5  11791     THE SPOT GRILL  10004 NATIONAL BLVD  False  Restaurant      14   \n",
       "6  11792                CPK  100 WORLD WAY # 126  False  Restaurant     100   \n",
       "\n",
       "   seat         street  \n",
       "1   few      WORLD WAY  \n",
       "3   few  W SUNSET BLVD  \n",
       "4   few  ECHO PARK AVE  \n",
       "5   few  NATIONAL BLVD  \n",
       "6  many      WORLD WAY  "
      ]
     },
     "execution_count": 36,
     "metadata": {},
     "output_type": "execute_result"
    }
   ],
   "source": [
    "only_restaurant.head()"
   ]
  },
  {
   "cell_type": "code",
   "execution_count": 37,
   "metadata": {},
   "outputs": [],
   "source": [
    "only_restaurant['street'] = only_restaurant['address'].apply(\n",
    "    lambda x: get_street(x)).apply(lambda x: filters(x))"
   ]
  },
  {
   "cell_type": "code",
   "execution_count": 38,
   "metadata": {},
   "outputs": [
    {
     "data": {
      "text/plain": [
       "WILSHIRE BLVD     309\n",
       "W SUNSET BLVD     271\n",
       "W PICO BLVD       257\n",
       "S WESTERN AVE     219\n",
       "W OLYMPIC BLVD    205\n",
       "Name: street, dtype: int64"
      ]
     },
     "execution_count": 38,
     "metadata": {},
     "output_type": "execute_result"
    }
   ],
   "source": [
    "only_restaurant['street'].value_counts().head()\n"
   ]
  },
  {
   "cell_type": "code",
   "execution_count": 39,
   "metadata": {},
   "outputs": [
    {
     "data": {
      "image/png": "[encoded data removed]",
      "text/plain": [
       "<Figure size 1008x460.8 with 1 Axes>"
      ]
     },
     "metadata": {},
     "output_type": "display_data"
    }
   ],
   "source": [
    "fig, ax = plt.subplots(facecolor='white')\n",
    "ax.set_facecolor(\"ghostwhite\")\n",
    "only_restaurant['street'].value_counts().head(10).sort_values().plot.barh(figsize=(14,6.4),\n",
    "                                                         rot=0,\n",
    "                                                         alpha=.6)\n",
    "\n",
    "plt.xlim(0,only_restaurant['street'].value_counts().max()+25)\n",
    "ax.xaxis.set_major_locator(ticker.MultipleLocator(25))\n",
    "ax.tick_params(axis='both', left=False, bottom=False, labelsize='14')\n",
    "\n",
    "ax.spines['bottom'].set_color('darkgray')\n",
    "plt.grid(False, axis='x')\n",
    "plt.grid(axis='y',alpha=.5)\n",
    "plt.ylabel('', labelpad=15, fontsize=20)\n",
    "plt.xlabel('Number of Restaurants',labelpad=10,size=20)\n",
    "plt.title(\" top 10 streets by number of restaurants\",\n",
    "          fontsize=25,\n",
    "          x=.42,\n",
    "          fontweight='semibold',\n",
    "          pad=25)\n",
    "\n",
    "plt.show()"
   ]
  },
  {
   "cell_type": "markdown",
   "metadata": {},
   "source": [
    "These streets contain  up to ~325 restaurants establishments! They may be of interest for the company if they want to enter a competitive but thriving market"
   ]
  },
  {
   "cell_type": "markdown",
   "metadata": {},
   "source": [
    "<div class=\"alert alert-block alert-success\">\n",
    "<b>Reviewer's comment</b> <a class=\"tocSkip\"></a>\n",
    "\n",
    "All right here\n",
    "</div>"
   ]
  },
  {
   "cell_type": "markdown",
   "metadata": {},
   "source": [
    "### Find the number of streets that only have one restaurant.\n"
   ]
  },
  {
   "cell_type": "code",
   "execution_count": 40,
   "metadata": {},
   "outputs": [
    {
     "name": "stdout",
     "output_type": "stream",
     "text": [
      "Count (All): 723\n",
      "1 restaurant (Count): 348\n",
      "1 Restaurant (%): 0.48132780082987553\n"
     ]
    }
   ],
   "source": [
    "print('Count (All):', len(only_restaurant['street'].value_counts()))\n",
    "print(\n",
    "    '1 restaurant (Count):',\n",
    "    len(only_restaurant['street'].value_counts()[\n",
    "        only_restaurant['street'].value_counts() == 1]))\n",
    "print(\n",
    "    '1 Restaurant (%):',\n",
    "    len(only_restaurant['street'].value_counts()[\n",
    "        only_restaurant['street'].value_counts() == 1]) /\n",
    "    len(only_restaurant['street'].value_counts()))\n"
   ]
  },
  {
   "cell_type": "markdown",
   "metadata": {},
   "source": [
    "Out of  the 723 streets 348 or 48% of them contain only one of such establishment."
   ]
  },
  {
   "cell_type": "markdown",
   "metadata": {},
   "source": [
    "### For streets with a lot of restaurants, look at the distribution of the number of seats. What trends can you see?"
   ]
  },
  {
   "cell_type": "markdown",
   "metadata": {},
   "source": [
    "First we'll want to segment the streets into two: few and many restaurants.Let's look at the distribution first to help in defining \"a lot\" of restaurants.\n",
    "\n"
   ]
  },
  {
   "cell_type": "code",
   "execution_count": 41,
   "metadata": {},
   "outputs": [
    {
     "data": {
      "image/png": "[encoded data removed]",
      "text/plain": [
       "<Figure size 1080x360 with 1 Axes>"
      ]
     },
     "metadata": {},
     "output_type": "display_data"
    }
   ],
   "source": [
    "ax=only_restaurant['street'].value_counts().hist(bins=50,figsize=(15,5))\n",
    "plt.axvline(only_restaurant['street'].value_counts().quantile(.68))\n",
    "plt.xlim(0, only_restaurant['street'].value_counts().max())\n",
    "ax.xaxis.set_major_locator(ticker.MultipleLocator(10))\n",
    "plt.show()"
   ]
  },
  {
   "cell_type": "markdown",
   "metadata": {},
   "source": [
    "<div class=\"alert alert-block alert-danger\">\n",
    "<b>Reviewer's comment</b> <a class=\"tocSkip\"></a>\n",
    "\n",
    "Something went wrong here🤔\n",
    "</div>"
   ]
  },
  {
   "attachments": {
    "image.png": {
     "image/png": "[encoded data removed]"
    }
   },
   "cell_type": "markdown",
   "metadata": {},
   "source": [
    "![image.png](attachment:image.png)"
   ]
  },
  {
   "cell_type": "markdown",
   "metadata": {},
   "source": [
    "we'll choose 10 restaurants as a definition for \"lots of\" restaurants for a street."
   ]
  },
  {
   "cell_type": "markdown",
   "metadata": {},
   "source": [
    "<div class=\"alert alert-block alert-success\">\n",
    "<b>Reviewer's comment 2</b> <a class=\"tocSkip\"></a>\n",
    "\n",
    "Good choice\n",
    "</div>"
   ]
  },
  {
   "cell_type": "code",
   "execution_count": 42,
   "metadata": {},
   "outputs": [],
   "source": [
    "street_more_than_10_restaurants = only_restaurant['street'].value_counts()[\n",
    "    only_restaurant['street'].value_counts() > 10].index"
   ]
  },
  {
   "cell_type": "code",
   "execution_count": 43,
   "metadata": {},
   "outputs": [
    {
     "data": {
      "image/png": "[encoded data removed]",
      "text/plain": [
       "<Figure size 1080x432 with 1 Axes>"
      ]
     },
     "metadata": {},
     "output_type": "display_data"
    }
   ],
   "source": [
    "lots_restaurant_number_seats = only_restaurant.query(\n",
    "    \"street in @street_more_than_10_restaurants\")['number']\n",
    "\n",
    "fig, ax = plt.subplots(figsize=(15,6), facecolor='white')\n",
    "sns.countplot(lots_restaurant_number_seats, alpha=.6, color='cyan')\n",
    "plt.axvline(lots_restaurant_number_seats.median(), alpha=.7, linewidth=1)\n",
    "ax.set_facecolor(\"white\")\n",
    "\n",
    "freq = int(25)\n",
    "xticks = ax.get_xticks()\n",
    "ax.set_xticks(np.append(xticks[::25], lots_restaurant_number_seats.max() - 4))\n",
    "ax.set_xticklabels(\n",
    "    np.append(xticks[::25],\n",
    "              lots_restaurant_number_seats.max() - 4))\n",
    "plt.xlim(0, lots_restaurant_number_seats.max())\n",
    "ax.tick_params(labelsize=13)\n",
    "\n",
    "plt.annotate(\"Median: \" + str(int(lots_restaurant_number_seats.median())),\n",
    "             xy=(lots_restaurant_number_seats.median(), 85),\n",
    "             xytext=(45, 87),fontweight='bold',\n",
    "             arrowprops=dict(arrowstyle=\"fancy\"))\n",
    "\n",
    "\n",
    "\n",
    "\n",
    "plt.xlabel(\"Number of Seats\", labelpad=15, fontsize=20)\n",
    "plt.ylabel(\"Count\", labelpad=10, fontsize=20)\n",
    "plt.title(\"Streets With Many Restaurants\",\n",
    "          fontsize=23,\n",
    "          x=.38,\n",
    "          y=.95,\n",
    "          fontweight='semibold')\n",
    "plt.show()"
   ]
  },
  {
   "cell_type": "markdown",
   "metadata": {},
   "source": [
    " WE can see here almost the same pattern seen in the overall number of seats distribution.\n",
    "\n"
   ]
  },
  {
   "cell_type": "markdown",
   "metadata": {},
   "source": [
    "chain and non-chain establishments for streets with many restaurants.\n",
    "\n"
   ]
  },
  {
   "cell_type": "code",
   "execution_count": 44,
   "metadata": {},
   "outputs": [],
   "source": [
    "is_over10restaurant_chain = only_restaurant.query(\n",
    "    \"street in @street_more_than_10_restaurants and chain==True\")\n",
    "is_over10restaurant_non_chain = only_restaurant.query(\n",
    "    \"street in @street_more_than_10_restaurants and chain==False\")"
   ]
  },
  {
   "cell_type": "code",
   "execution_count": 45,
   "metadata": {},
   "outputs": [],
   "source": [
    "chain_restaraunt_many_street = is_over10restaurant_chain['number']\n",
    "non_chain_restaraunt_many_street = is_over10restaurant_non_chain['number']"
   ]
  },
  {
   "cell_type": "code",
   "execution_count": 46,
   "metadata": {},
   "outputs": [
    {
     "data": {
      "text/plain": [
       "(229, 229)"
      ]
     },
     "execution_count": 46,
     "metadata": {},
     "output_type": "execute_result"
    }
   ],
   "source": [
    "chain_restaraunt_many_street.max(), non_chain_restaraunt_many_street.max()\n"
   ]
  },
  {
   "cell_type": "code",
   "execution_count": 47,
   "metadata": {},
   "outputs": [
    {
     "data": {
      "image/png": "[encoded data removed]",
      "text/plain": [
       "<Figure size 1008x432 with 1 Axes>"
      ]
     },
     "metadata": {},
     "output_type": "display_data"
    }
   ],
   "source": [
    "fig, ax = plt.subplots(figsize=(14,6), facecolor='white')\n",
    "ax.set_facecolor(\"ghostwhite\")\n",
    "sns.distplot(chain_restaraunt_many_street, bins=20)\n",
    "sns.distplot(non_chain_restaraunt_many_street, bins=20)\n",
    "\n",
    "def mjrFormatter(x, pos):\n",
    "    return \"{:.2f}%\".format(x * 100)\n",
    "plt.grid(False, axis='x')\n",
    "plt.grid(axis='y',alpha=.4)\n",
    "plt.xlim(0, chain_restaraunt_many_street.max())\n",
    "ax.xaxis.set_major_locator(ticker.MultipleLocator(10))\n",
    "ax.tick_params(labelsize=14)\n",
    "ax.yaxis.set_major_formatter(ticker.FuncFormatter(mjrFormatter))\n",
    "\n",
    "plt.legend(['No-Chain', 'Chain'], fancybox=True, shadow=True, fontsize=15,facecolor='white')\n",
    "\n",
    "plt.xlabel('Number of Seats', labelpad=15, fontsize=16)\n",
    "plt.ylabel('Density', labelpad=15, fontsize=16)\n",
    "plt.title(\n",
    "    \" Streets in LA With More than 10 Restaurants\",\n",
    "    fontsize=23,\n",
    "    pad=25,\n",
    "    ha='center',\n",
    "    fontweight='semibold')\n",
    "\n",
    "plt.show()"
   ]
  },
  {
   "cell_type": "markdown",
   "metadata": {},
   "source": [
    "  Chain Affiliation Makes No Difference in Distribution of Seats"
   ]
  },
  {
   "cell_type": "markdown",
   "metadata": {},
   "source": [
    "<div class=\"alert alert-block alert-success\">\n",
    "<b>Reviewer's comment 2</b> <a class=\"tocSkip\"></a>\n",
    "\n",
    "Thanks for the cool graph)\n",
    "</div>"
   ]
  },
  {
   "cell_type": "markdown",
   "metadata": {},
   "source": [
    "# Conclusion\n"
   ]
  },
  {
   "cell_type": "markdown",
   "metadata": {},
   "source": [
    "- **LA Establishments:**\n",
    "* Total count : 9,651\n",
    "* 62% -> non-chains and 38& -> chains\n",
    "* Two groups for chains:\n",
    "* Few Seats (< 50) and Many seas (>61)"
   ]
  },
  {
   "cell_type": "markdown",
   "metadata": {},
   "source": [
    "- **Café**\n",
    "* Roughly 4.5% of the market share\n",
    "* More likely to be a chain (61.1%) -> % set to continue increasing\n",
    "* The smallest share of with CHAIN establishments with more than 61\n",
    "* Chains:Roughly 25 avg. number of seats\n"
   ]
  },
  {
   "cell_type": "markdown",
   "metadata": {},
   "source": [
    "- **Restaurant**\n",
    "* Make up roughly 75% of the establishments in LA\n",
    "* More likely to be non-chains (68.4%)\n",
    "* CHAINS:\n",
    " * 1/5 or 20% have many seats(> 60)\n",
    " * Have on average 48 seats\n",
    "* 48% of streets contain 1 restaurant whilst 52% contain more than 1; top 10 streets contain between 160 and 320 restaurants.\n",
    " * Streets with more than 10 restaurants\n",
    " * Have a median of 32 seats\n",
    " * Distribution of seats can be split into two groups and does not differ amongst chains and non-chain restaurant establishments."
   ]
  },
  {
   "cell_type": "markdown",
   "metadata": {},
   "source": [
    "* The company should t think towards establishing a restaurant as there is less big players (chains) in that market relative to Cafes; small Cafes are being outnumbered  by Cafe chains.\n",
    "* Large share of establishments in LA, especially considering their high % of non-chain establishments make it relatively easier to compete and thrive given the service it will provide.\n",
    "* The company should consider starting off as a non-chain with 48 seats and depending on its strategy, establish itself in a street with many restaurants and/or one restaurant. It can then aggressively grow and establish a chain thereafter given the novelty of service provided."
   ]
  },
  {
   "cell_type": "markdown",
   "metadata": {},
   "source": [
    "<div class=\"alert alert-block alert-success\">\n",
    "<b>Reviewer's comment</b> <a class=\"tocSkip\"></a>\n",
    "\n",
    "I like your informative conclusion. It's awesome!\n",
    "</div>"
   ]
  },
  {
   "cell_type": "markdown",
   "metadata": {},
   "source": [
    "##  Preparing a presentation"
   ]
  },
  {
   "cell_type": "markdown",
   "metadata": {},
   "source": [
    "Presentation: <https://drive.google.com/file/d/1Qu4dDIpiLZXkBpUkrGOZN9azAJr3_ZFP/view?usp=sharing> "
   ]
  },
  {
   "cell_type": "markdown",
   "metadata": {},
   "source": [
    "<div class=\"alert alert-block alert-success\">\n",
    "<b>Reviewer's comment</b> <a class=\"tocSkip\"></a>\n",
    "\n",
    "It is very beautiful. I like colors and style. Special thanks for the recomendations👍\n",
    "</div>"
   ]
  },
  {
   "cell_type": "markdown",
   "metadata": {},
   "source": [
    "<div class=\"alert alert-block alert-success\">\n",
    "<b>Reviewer's conclusion</b> <a class=\"tocSkip\"></a>\n",
    "\n",
    "Dima, you did really good job. I can see that you have nice knowledge in the data visualization and presentations. Awesome!\n",
    "</div>"
   ]
  },
  {
   "cell_type": "code",
   "execution_count": null,
   "metadata": {},
   "outputs": [],
   "source": []
  }
 ],
 "metadata": {
  "ExecuteTimeLog": [
   {
    "duration": 2313,
    "start_time": "2022-02-27T09:17:45.923Z"
   },
   {
    "duration": 129,
    "start_time": "2022-02-27T09:25:21.543Z"
   },
   {
    "duration": 14501,
    "start_time": "2022-02-27T09:25:42.135Z"
   },
   {
    "duration": 572,
    "start_time": "2022-02-27T09:26:01.278Z"
   },
   {
    "duration": 38,
    "start_time": "2022-02-27T09:26:04.148Z"
   },
   {
    "duration": 22,
    "start_time": "2022-02-27T09:26:05.338Z"
   },
   {
    "duration": 28,
    "start_time": "2022-02-27T09:26:32.447Z"
   },
   {
    "duration": 11,
    "start_time": "2022-02-27T09:27:06.013Z"
   },
   {
    "duration": 10,
    "start_time": "2022-02-27T09:31:38.457Z"
   },
   {
    "duration": 26,
    "start_time": "2022-02-27T09:35:45.909Z"
   },
   {
    "duration": 21,
    "start_time": "2022-02-27T09:35:59.897Z"
   },
   {
    "duration": 14,
    "start_time": "2022-02-27T09:36:19.925Z"
   },
   {
    "duration": 14,
    "start_time": "2022-02-27T09:39:45.272Z"
   },
   {
    "duration": 32412,
    "start_time": "2022-02-27T09:49:04.958Z"
   },
   {
    "duration": 1901,
    "start_time": "2022-02-27T09:53:47.965Z"
   },
   {
    "duration": 630,
    "start_time": "2022-02-27T09:56:02.128Z"
   },
   {
    "duration": 252,
    "start_time": "2022-02-27T09:57:53.263Z"
   },
   {
    "duration": 250,
    "start_time": "2022-02-27T09:58:32.204Z"
   },
   {
    "duration": 373,
    "start_time": "2022-02-27T09:59:55.903Z"
   },
   {
    "duration": 264,
    "start_time": "2022-02-27T10:00:17.677Z"
   },
   {
    "duration": 389,
    "start_time": "2022-02-27T10:00:37.373Z"
   },
   {
    "duration": 82,
    "start_time": "2022-02-27T10:02:49.712Z"
   },
   {
    "duration": 253,
    "start_time": "2022-02-27T10:02:58.909Z"
   },
   {
    "duration": 263,
    "start_time": "2022-02-27T10:03:50.634Z"
   },
   {
    "duration": 251,
    "start_time": "2022-02-27T10:04:14.584Z"
   },
   {
    "duration": 394,
    "start_time": "2022-02-27T10:04:28.491Z"
   },
   {
    "duration": 264,
    "start_time": "2022-02-27T10:07:15.243Z"
   },
   {
    "duration": 264,
    "start_time": "2022-02-27T10:07:33.528Z"
   },
   {
    "duration": 252,
    "start_time": "2022-02-27T10:09:28.626Z"
   },
   {
    "duration": 556,
    "start_time": "2022-02-27T10:09:48.252Z"
   },
   {
    "duration": 251,
    "start_time": "2022-02-27T10:10:03.164Z"
   },
   {
    "duration": 87,
    "start_time": "2022-02-27T10:15:10.880Z"
   },
   {
    "duration": 64,
    "start_time": "2022-02-27T10:15:27.984Z"
   },
   {
    "duration": 399,
    "start_time": "2022-02-27T10:15:47.071Z"
   },
   {
    "duration": 71,
    "start_time": "2022-02-27T10:17:17.583Z"
   },
   {
    "duration": 81,
    "start_time": "2022-02-27T10:17:29.460Z"
   },
   {
    "duration": 81,
    "start_time": "2022-02-27T10:17:45.676Z"
   },
   {
    "duration": 282,
    "start_time": "2022-02-27T10:17:54.469Z"
   },
   {
    "duration": 400,
    "start_time": "2022-02-27T10:19:42.402Z"
   },
   {
    "duration": 274,
    "start_time": "2022-02-27T10:21:21.726Z"
   },
   {
    "duration": 266,
    "start_time": "2022-02-27T10:24:25.620Z"
   },
   {
    "duration": 261,
    "start_time": "2022-02-27T10:24:56.045Z"
   },
   {
    "duration": 245,
    "start_time": "2022-02-27T10:27:26.868Z"
   },
   {
    "duration": 671,
    "start_time": "2022-02-27T10:36:09.026Z"
   },
   {
    "duration": 617,
    "start_time": "2022-02-27T10:40:45.736Z"
   },
   {
    "duration": 485,
    "start_time": "2022-02-27T10:42:30.529Z"
   },
   {
    "duration": 477,
    "start_time": "2022-02-27T10:43:16.738Z"
   },
   {
    "duration": 714,
    "start_time": "2022-02-27T10:43:51.786Z"
   },
   {
    "duration": 12,
    "start_time": "2022-02-27T10:54:22.250Z"
   },
   {
    "duration": 130,
    "start_time": "2022-02-27T10:58:38.322Z"
   },
   {
    "duration": 21,
    "start_time": "2022-02-27T10:59:16.190Z"
   },
   {
    "duration": 12,
    "start_time": "2022-02-27T10:59:34.205Z"
   },
   {
    "duration": 254,
    "start_time": "2022-02-27T11:02:24.786Z"
   },
   {
    "duration": 7,
    "start_time": "2022-02-27T11:05:33.145Z"
   },
   {
    "duration": 8,
    "start_time": "2022-02-27T11:05:40.164Z"
   },
   {
    "duration": 9,
    "start_time": "2022-02-27T11:05:51.677Z"
   },
   {
    "duration": 9,
    "start_time": "2022-02-27T11:07:22.242Z"
   },
   {
    "duration": 6,
    "start_time": "2022-02-27T11:07:42.712Z"
   },
   {
    "duration": 9,
    "start_time": "2022-02-27T11:08:01.920Z"
   },
   {
    "duration": 222,
    "start_time": "2022-02-27T11:09:12.278Z"
   },
   {
    "duration": 12,
    "start_time": "2022-02-27T11:09:24.505Z"
   },
   {
    "duration": 530,
    "start_time": "2022-02-27T11:11:11.773Z"
   },
   {
    "duration": 373,
    "start_time": "2022-02-27T11:11:41.188Z"
   },
   {
    "duration": 5,
    "start_time": "2022-02-27T11:12:46.849Z"
   },
   {
    "duration": 26,
    "start_time": "2022-02-27T11:12:48.412Z"
   },
   {
    "duration": 14,
    "start_time": "2022-02-27T11:12:48.624Z"
   },
   {
    "duration": 12,
    "start_time": "2022-02-27T11:12:48.823Z"
   },
   {
    "duration": 22,
    "start_time": "2022-02-27T11:12:49.015Z"
   },
   {
    "duration": 11,
    "start_time": "2022-02-27T11:12:49.229Z"
   },
   {
    "duration": 14,
    "start_time": "2022-02-27T11:12:50.422Z"
   },
   {
    "duration": 9,
    "start_time": "2022-02-27T11:12:57.462Z"
   },
   {
    "duration": 358,
    "start_time": "2022-02-27T11:12:59.307Z"
   },
   {
    "duration": 380,
    "start_time": "2022-02-27T11:13:15.004Z"
   },
   {
    "duration": 284,
    "start_time": "2022-02-27T11:13:26.377Z"
   },
   {
    "duration": 377,
    "start_time": "2022-02-27T11:13:39.338Z"
   },
   {
    "duration": 456,
    "start_time": "2022-02-27T11:15:46.446Z"
   },
   {
    "duration": 218,
    "start_time": "2022-02-27T11:16:22.284Z"
   },
   {
    "duration": 9,
    "start_time": "2022-02-27T11:16:37.666Z"
   },
   {
    "duration": 366,
    "start_time": "2022-02-27T11:16:42.259Z"
   },
   {
    "duration": 359,
    "start_time": "2022-02-27T11:17:15.485Z"
   },
   {
    "duration": 363,
    "start_time": "2022-02-27T11:17:32.096Z"
   },
   {
    "duration": 324,
    "start_time": "2022-02-27T11:17:47.718Z"
   },
   {
    "duration": 9,
    "start_time": "2022-02-27T11:21:22.273Z"
   },
   {
    "duration": 9,
    "start_time": "2022-02-27T11:23:58.956Z"
   },
   {
    "duration": 184,
    "start_time": "2022-02-27T11:26:05.328Z"
   },
   {
    "duration": 140,
    "start_time": "2022-02-27T11:27:19.252Z"
   },
   {
    "duration": 335,
    "start_time": "2022-02-27T11:28:27.944Z"
   },
   {
    "duration": 135,
    "start_time": "2022-02-27T11:29:05.349Z"
   },
   {
    "duration": 263,
    "start_time": "2022-02-27T11:32:12.915Z"
   },
   {
    "duration": 10,
    "start_time": "2022-02-27T11:33:52.245Z"
   },
   {
    "duration": 21,
    "start_time": "2022-02-27T11:34:02.862Z"
   },
   {
    "duration": 690,
    "start_time": "2022-02-27T11:35:50.897Z"
   },
   {
    "duration": 574,
    "start_time": "2022-02-27T11:36:13.320Z"
   },
   {
    "duration": 172,
    "start_time": "2022-02-27T11:37:43.538Z"
   },
   {
    "duration": 583,
    "start_time": "2022-02-27T11:38:28.414Z"
   },
   {
    "duration": 551,
    "start_time": "2022-02-27T11:39:08.639Z"
   },
   {
    "duration": 676,
    "start_time": "2022-02-27T11:39:34.528Z"
   },
   {
    "duration": 610,
    "start_time": "2022-02-27T11:39:46.600Z"
   },
   {
    "duration": 648,
    "start_time": "2022-02-27T11:40:17.755Z"
   },
   {
    "duration": 619,
    "start_time": "2022-02-27T11:40:51.663Z"
   },
   {
    "duration": 6,
    "start_time": "2022-02-27T11:44:17.374Z"
   },
   {
    "duration": 346,
    "start_time": "2022-02-27T11:44:58.459Z"
   },
   {
    "duration": 13,
    "start_time": "2022-02-27T11:45:13.223Z"
   },
   {
    "duration": 280,
    "start_time": "2022-02-27T11:59:21.920Z"
   },
   {
    "duration": 11,
    "start_time": "2022-02-27T11:59:46.099Z"
   },
   {
    "duration": 15,
    "start_time": "2022-02-27T12:00:01.724Z"
   },
   {
    "duration": 13,
    "start_time": "2022-02-27T12:00:45.838Z"
   },
   {
    "duration": 13,
    "start_time": "2022-02-27T12:01:05.359Z"
   },
   {
    "duration": 12,
    "start_time": "2022-02-27T12:01:59.853Z"
   },
   {
    "duration": 12,
    "start_time": "2022-02-27T12:03:45.693Z"
   },
   {
    "duration": 3497,
    "start_time": "2022-02-27T12:04:18.548Z"
   },
   {
    "duration": 6,
    "start_time": "2022-02-27T12:04:24.854Z"
   },
   {
    "duration": 34,
    "start_time": "2022-02-27T12:04:25.370Z"
   },
   {
    "duration": 14,
    "start_time": "2022-02-27T12:04:25.602Z"
   },
   {
    "duration": 178,
    "start_time": "2022-02-27T12:04:25.826Z"
   },
   {
    "duration": 21,
    "start_time": "2022-02-27T12:04:26.058Z"
   },
   {
    "duration": 11,
    "start_time": "2022-02-27T12:04:26.273Z"
   },
   {
    "duration": 12,
    "start_time": "2022-02-27T12:04:26.502Z"
   },
   {
    "duration": 10,
    "start_time": "2022-02-27T12:04:26.711Z"
   },
   {
    "duration": 14,
    "start_time": "2022-02-27T12:04:27.147Z"
   },
   {
    "duration": 70,
    "start_time": "2022-02-27T12:04:27.330Z"
   },
   {
    "duration": 10,
    "start_time": "2022-02-27T12:04:27.548Z"
   },
   {
    "duration": 14,
    "start_time": "2022-02-27T12:04:27.761Z"
   },
   {
    "duration": 9,
    "start_time": "2022-02-27T12:04:28.418Z"
   },
   {
    "duration": 10,
    "start_time": "2022-02-27T12:04:41.479Z"
   },
   {
    "duration": 14,
    "start_time": "2022-02-27T12:04:41.694Z"
   },
   {
    "duration": 9,
    "start_time": "2022-02-27T12:04:42.423Z"
   },
   {
    "duration": 333,
    "start_time": "2022-02-27T12:04:42.635Z"
   },
   {
    "duration": 10,
    "start_time": "2022-02-27T12:04:43.263Z"
   },
   {
    "duration": 134,
    "start_time": "2022-02-27T12:04:43.465Z"
   },
   {
    "duration": 20,
    "start_time": "2022-02-27T12:04:43.918Z"
   },
   {
    "duration": 537,
    "start_time": "2022-02-27T12:04:44.157Z"
   },
   {
    "duration": 6,
    "start_time": "2022-02-27T12:04:44.814Z"
   },
   {
    "duration": 12,
    "start_time": "2022-02-27T12:04:45.014Z"
   },
   {
    "duration": 12,
    "start_time": "2022-02-27T12:04:45.424Z"
   },
   {
    "duration": 11,
    "start_time": "2022-02-27T12:04:45.638Z"
   },
   {
    "duration": 14,
    "start_time": "2022-02-27T12:05:03.348Z"
   },
   {
    "duration": 78,
    "start_time": "2022-02-27T12:05:55.000Z"
   },
   {
    "duration": 540,
    "start_time": "2022-02-27T12:06:52.530Z"
   },
   {
    "duration": 721,
    "start_time": "2022-02-27T12:07:06.546Z"
   },
   {
    "duration": 717,
    "start_time": "2022-02-27T12:07:55.660Z"
   },
   {
    "duration": 578,
    "start_time": "2022-02-27T12:09:28.509Z"
   },
   {
    "duration": 604,
    "start_time": "2022-02-27T12:09:58.847Z"
   },
   {
    "duration": 739,
    "start_time": "2022-02-27T12:10:24.242Z"
   },
   {
    "duration": 717,
    "start_time": "2022-02-27T12:10:42.814Z"
   },
   {
    "duration": 85,
    "start_time": "2022-02-27T12:11:00.424Z"
   },
   {
    "duration": 632,
    "start_time": "2022-02-27T12:11:08.543Z"
   },
   {
    "duration": 676,
    "start_time": "2022-02-27T12:11:34.500Z"
   },
   {
    "duration": 830,
    "start_time": "2022-02-27T12:12:10.493Z"
   },
   {
    "duration": 653,
    "start_time": "2022-02-27T12:12:38.340Z"
   },
   {
    "duration": 633,
    "start_time": "2022-02-27T12:12:53.534Z"
   },
   {
    "duration": 549,
    "start_time": "2022-02-27T12:13:44.806Z"
   },
   {
    "duration": 698,
    "start_time": "2022-02-27T12:13:59.860Z"
   },
   {
    "duration": 708,
    "start_time": "2022-02-27T12:14:12.590Z"
   },
   {
    "duration": 5380,
    "start_time": "2022-02-27T12:15:48.712Z"
   },
   {
    "duration": 12,
    "start_time": "2022-02-27T12:15:58.962Z"
   },
   {
    "duration": 225,
    "start_time": "2022-02-27T12:20:22.416Z"
   },
   {
    "duration": 25,
    "start_time": "2022-02-27T12:20:43.724Z"
   },
   {
    "duration": 31,
    "start_time": "2022-02-27T12:21:05.797Z"
   },
   {
    "duration": 542,
    "start_time": "2022-02-27T12:27:18.916Z"
   },
   {
    "duration": 401,
    "start_time": "2022-02-27T12:29:52.791Z"
   },
   {
    "duration": 82,
    "start_time": "2022-02-27T12:30:44.756Z"
   },
   {
    "duration": 75,
    "start_time": "2022-02-27T12:30:54.164Z"
   },
   {
    "duration": 75,
    "start_time": "2022-02-27T12:31:03.332Z"
   },
   {
    "duration": 550,
    "start_time": "2022-02-27T12:31:34.661Z"
   },
   {
    "duration": 383,
    "start_time": "2022-02-27T12:32:10.088Z"
   },
   {
    "duration": 518,
    "start_time": "2022-02-27T12:32:56.879Z"
   },
   {
    "duration": 386,
    "start_time": "2022-02-27T12:33:14.328Z"
   },
   {
    "duration": 396,
    "start_time": "2022-02-27T12:33:27.343Z"
   },
   {
    "duration": 637,
    "start_time": "2022-02-27T12:33:45.611Z"
   },
   {
    "duration": 401,
    "start_time": "2022-02-27T12:34:39.174Z"
   },
   {
    "duration": 391,
    "start_time": "2022-02-27T12:34:52.974Z"
   },
   {
    "duration": 390,
    "start_time": "2022-02-27T12:35:01.293Z"
   },
   {
    "duration": 390,
    "start_time": "2022-02-27T12:35:23.969Z"
   },
   {
    "duration": 395,
    "start_time": "2022-02-27T12:35:46.689Z"
   },
   {
    "duration": 405,
    "start_time": "2022-02-27T12:36:01.246Z"
   },
   {
    "duration": 370,
    "start_time": "2022-02-27T12:36:58.228Z"
   },
   {
    "duration": 20,
    "start_time": "2022-02-27T12:46:04.427Z"
   },
   {
    "duration": 17,
    "start_time": "2022-02-27T12:46:06.500Z"
   },
   {
    "duration": 535,
    "start_time": "2022-02-27T12:59:28.239Z"
   },
   {
    "duration": 515,
    "start_time": "2022-02-27T13:00:38.869Z"
   },
   {
    "duration": 511,
    "start_time": "2022-02-27T13:00:55.979Z"
   },
   {
    "duration": 541,
    "start_time": "2022-02-27T13:01:07.231Z"
   },
   {
    "duration": 501,
    "start_time": "2022-02-27T13:02:16.687Z"
   },
   {
    "duration": 337,
    "start_time": "2022-02-27T13:02:49.037Z"
   },
   {
    "duration": 346,
    "start_time": "2022-02-27T13:03:06.470Z"
   },
   {
    "duration": 719,
    "start_time": "2022-02-27T13:04:30.683Z"
   },
   {
    "duration": 18,
    "start_time": "2022-02-27T13:06:47.361Z"
   },
   {
    "duration": 596,
    "start_time": "2022-02-27T13:06:55.301Z"
   },
   {
    "duration": 29,
    "start_time": "2022-02-27T13:07:08.375Z"
   },
   {
    "duration": 6,
    "start_time": "2022-02-27T13:08:16.466Z"
   },
   {
    "duration": 8,
    "start_time": "2022-02-27T13:08:37.546Z"
   },
   {
    "duration": 834,
    "start_time": "2022-02-27T13:08:51.961Z"
   },
   {
    "duration": 687,
    "start_time": "2022-02-27T13:09:24.432Z"
   },
   {
    "duration": 852,
    "start_time": "2022-02-27T13:09:51.447Z"
   },
   {
    "duration": 824,
    "start_time": "2022-02-27T13:10:21.153Z"
   },
   {
    "duration": 503,
    "start_time": "2022-02-27T13:10:44.789Z"
   },
   {
    "duration": 547,
    "start_time": "2022-02-27T13:11:04.131Z"
   },
   {
    "duration": 890,
    "start_time": "2022-02-27T13:11:36.720Z"
   },
   {
    "duration": 575,
    "start_time": "2022-02-27T13:12:01.204Z"
   },
   {
    "duration": 511,
    "start_time": "2022-02-27T13:12:12.558Z"
   },
   {
    "duration": 529,
    "start_time": "2022-02-27T13:12:31.655Z"
   },
   {
    "duration": 831,
    "start_time": "2022-02-27T13:12:42.375Z"
   },
   {
    "duration": 617,
    "start_time": "2022-02-27T13:13:09.789Z"
   },
   {
    "duration": 11,
    "start_time": "2022-02-27T13:16:53.456Z"
   },
   {
    "duration": 9,
    "start_time": "2022-02-27T13:17:42.307Z"
   },
   {
    "duration": 10,
    "start_time": "2022-02-27T13:17:58.017Z"
   },
   {
    "duration": 11,
    "start_time": "2022-02-27T13:20:01.251Z"
   },
   {
    "duration": 4,
    "start_time": "2022-02-27T13:27:22.612Z"
   },
   {
    "duration": 281,
    "start_time": "2022-02-27T13:29:49.281Z"
   },
   {
    "duration": 7,
    "start_time": "2022-02-27T13:30:04.382Z"
   },
   {
    "duration": 20,
    "start_time": "2022-02-27T13:30:19.801Z"
   },
   {
    "duration": 4,
    "start_time": "2022-02-27T13:30:20.115Z"
   },
   {
    "duration": 3,
    "start_time": "2022-02-27T13:30:53.492Z"
   },
   {
    "duration": 7,
    "start_time": "2022-02-27T13:30:55.063Z"
   },
   {
    "duration": 4,
    "start_time": "2022-02-27T13:30:56.138Z"
   },
   {
    "duration": 5,
    "start_time": "2022-02-27T13:30:57.395Z"
   },
   {
    "duration": 36,
    "start_time": "2022-02-27T13:31:00.216Z"
   },
   {
    "duration": 13,
    "start_time": "2022-02-27T13:31:24.051Z"
   },
   {
    "duration": 11,
    "start_time": "2022-02-27T13:32:16.084Z"
   },
   {
    "duration": 548,
    "start_time": "2022-02-27T13:32:22.967Z"
   },
   {
    "duration": 19,
    "start_time": "2022-02-27T13:34:29.439Z"
   },
   {
    "duration": 4859,
    "start_time": "2022-02-27T13:34:36.164Z"
   },
   {
    "duration": 14,
    "start_time": "2022-02-27T13:39:38.530Z"
   },
   {
    "duration": 34,
    "start_time": "2022-02-27T13:40:00.720Z"
   },
   {
    "duration": 15,
    "start_time": "2022-02-27T13:40:01.800Z"
   },
   {
    "duration": 4,
    "start_time": "2022-02-27T13:42:30.400Z"
   },
   {
    "duration": 8,
    "start_time": "2022-02-27T13:42:31.327Z"
   },
   {
    "duration": 6,
    "start_time": "2022-02-27T13:42:32.227Z"
   },
   {
    "duration": 5,
    "start_time": "2022-02-27T13:42:33.281Z"
   },
   {
    "duration": 40,
    "start_time": "2022-02-27T13:42:37.605Z"
   },
   {
    "duration": 16,
    "start_time": "2022-02-27T13:42:54.581Z"
   },
   {
    "duration": 36,
    "start_time": "2022-02-27T13:58:00.456Z"
   },
   {
    "duration": 9,
    "start_time": "2022-02-27T13:58:13.642Z"
   },
   {
    "duration": 528,
    "start_time": "2022-02-27T14:00:02.593Z"
   },
   {
    "duration": 31,
    "start_time": "2022-02-27T14:02:30.834Z"
   },
   {
    "duration": 16,
    "start_time": "2022-02-27T14:04:35.904Z"
   },
   {
    "duration": 843,
    "start_time": "2022-02-27T14:07:33.561Z"
   },
   {
    "duration": 35,
    "start_time": "2022-02-27T14:09:12.798Z"
   },
   {
    "duration": 10,
    "start_time": "2022-02-27T14:09:14.173Z"
   },
   {
    "duration": 15,
    "start_time": "2022-02-27T14:10:37.707Z"
   },
   {
    "duration": 3200,
    "start_time": "2022-02-27T14:11:32.138Z"
   },
   {
    "duration": 6,
    "start_time": "2022-02-27T14:11:35.352Z"
   },
   {
    "duration": 37,
    "start_time": "2022-02-27T14:11:35.361Z"
   },
   {
    "duration": 15,
    "start_time": "2022-02-27T14:11:35.401Z"
   },
   {
    "duration": 43,
    "start_time": "2022-02-27T14:11:35.419Z"
   },
   {
    "duration": 27,
    "start_time": "2022-02-27T14:11:35.465Z"
   },
   {
    "duration": 59,
    "start_time": "2022-02-27T14:11:35.495Z"
   },
   {
    "duration": 11,
    "start_time": "2022-02-27T14:11:35.560Z"
   },
   {
    "duration": 12,
    "start_time": "2022-02-27T14:11:35.575Z"
   },
   {
    "duration": 72,
    "start_time": "2022-02-27T14:11:35.590Z"
   },
   {
    "duration": 11,
    "start_time": "2022-02-27T14:11:35.665Z"
   },
   {
    "duration": 17,
    "start_time": "2022-02-27T14:11:35.679Z"
   },
   {
    "duration": 56,
    "start_time": "2022-02-27T14:11:35.699Z"
   },
   {
    "duration": 361,
    "start_time": "2022-02-27T14:11:35.758Z"
   },
   {
    "duration": 9,
    "start_time": "2022-02-27T14:11:36.122Z"
   },
   {
    "duration": 145,
    "start_time": "2022-02-27T14:11:36.151Z"
   },
   {
    "duration": 20,
    "start_time": "2022-02-27T14:11:36.298Z"
   },
   {
    "duration": 582,
    "start_time": "2022-02-27T14:11:36.320Z"
   },
   {
    "duration": 14,
    "start_time": "2022-02-27T14:11:36.905Z"
   },
   {
    "duration": 31,
    "start_time": "2022-02-27T14:11:36.922Z"
   },
   {
    "duration": 16,
    "start_time": "2022-02-27T14:11:36.956Z"
   },
   {
    "duration": 12,
    "start_time": "2022-02-27T14:11:36.975Z"
   },
   {
    "duration": 704,
    "start_time": "2022-02-27T14:11:36.992Z"
   },
   {
    "duration": 13,
    "start_time": "2022-02-27T14:11:37.699Z"
   },
   {
    "duration": 51,
    "start_time": "2022-02-27T14:11:37.714Z"
   },
   {
    "duration": 400,
    "start_time": "2022-02-27T14:11:37.768Z"
   },
   {
    "duration": 14,
    "start_time": "2022-02-27T14:11:38.170Z"
   },
   {
    "duration": 13,
    "start_time": "2022-02-27T14:11:38.187Z"
   },
   {
    "duration": 7,
    "start_time": "2022-02-27T14:11:38.202Z"
   },
   {
    "duration": 40,
    "start_time": "2022-02-27T14:11:38.211Z"
   },
   {
    "duration": 7,
    "start_time": "2022-02-27T14:11:38.253Z"
   },
   {
    "duration": 42,
    "start_time": "2022-02-27T14:11:38.262Z"
   },
   {
    "duration": 47,
    "start_time": "2022-02-27T14:11:38.307Z"
   },
   {
    "duration": 16,
    "start_time": "2022-02-27T14:11:38.357Z"
   },
   {
    "duration": 34,
    "start_time": "2022-02-27T14:11:38.376Z"
   },
   {
    "duration": 47,
    "start_time": "2022-02-27T14:11:38.412Z"
   },
   {
    "duration": 554,
    "start_time": "2022-02-27T14:11:38.461Z"
   },
   {
    "duration": 13,
    "start_time": "2022-02-27T14:11:39.017Z"
   },
   {
    "duration": 673,
    "start_time": "2022-02-27T14:11:39.052Z"
   },
   {
    "duration": 4,
    "start_time": "2022-02-27T14:12:45.856Z"
   },
   {
    "duration": 9,
    "start_time": "2022-02-27T14:13:48.202Z"
   },
   {
    "duration": 15,
    "start_time": "2022-02-27T14:13:54.538Z"
   },
   {
    "duration": 15,
    "start_time": "2022-02-27T14:14:08.488Z"
   },
   {
    "duration": 31,
    "start_time": "2022-02-27T14:14:25.917Z"
   },
   {
    "duration": 9,
    "start_time": "2022-02-27T14:14:26.772Z"
   },
   {
    "duration": 520,
    "start_time": "2022-02-27T14:14:33.558Z"
   },
   {
    "duration": 12,
    "start_time": "2022-02-27T14:14:45.703Z"
   },
   {
    "duration": 812,
    "start_time": "2022-02-27T14:14:55.595Z"
   },
   {
    "duration": 11,
    "start_time": "2022-02-27T14:17:19.181Z"
   },
   {
    "duration": 1705,
    "start_time": "2022-02-27T14:18:34.714Z"
   },
   {
    "duration": 1540,
    "start_time": "2022-02-27T14:20:53.237Z"
   },
   {
    "duration": 1709,
    "start_time": "2022-02-27T14:21:06.288Z"
   },
   {
    "duration": 1502,
    "start_time": "2022-02-27T14:21:18.054Z"
   },
   {
    "duration": 1685,
    "start_time": "2022-02-27T14:21:37.059Z"
   },
   {
    "duration": 1560,
    "start_time": "2022-02-27T14:22:04.033Z"
   },
   {
    "duration": 16,
    "start_time": "2022-02-27T14:23:45.165Z"
   },
   {
    "duration": 4,
    "start_time": "2022-02-27T14:24:13.755Z"
   },
   {
    "duration": 6,
    "start_time": "2022-02-27T14:24:33.850Z"
   },
   {
    "duration": 626,
    "start_time": "2022-02-27T14:25:19.149Z"
   },
   {
    "duration": 615,
    "start_time": "2022-02-27T14:27:06.312Z"
   },
   {
    "duration": 967,
    "start_time": "2022-02-27T14:27:21.591Z"
   },
   {
    "duration": 130,
    "start_time": "2022-02-27T14:54:08.312Z"
   },
   {
    "duration": 612,
    "start_time": "2022-02-27T14:56:32.479Z"
   },
   {
    "duration": 5,
    "start_time": "2022-02-27T15:40:04.169Z"
   },
   {
    "duration": 32,
    "start_time": "2022-02-27T15:40:08.076Z"
   },
   {
    "duration": 13,
    "start_time": "2022-02-27T15:40:08.791Z"
   },
   {
    "duration": 12,
    "start_time": "2022-02-27T15:40:10.248Z"
   },
   {
    "duration": 23,
    "start_time": "2022-02-27T15:40:11.611Z"
   },
   {
    "duration": 12,
    "start_time": "2022-02-27T15:40:18.693Z"
   },
   {
    "duration": 10,
    "start_time": "2022-02-27T15:41:01.392Z"
   },
   {
    "duration": 9,
    "start_time": "2022-02-27T15:41:52.730Z"
   },
   {
    "duration": 1519,
    "start_time": "2022-02-27T16:07:01.214Z"
   },
   {
    "duration": 27,
    "start_time": "2022-02-27T16:10:22.088Z"
   },
   {
    "duration": 616,
    "start_time": "2022-02-27T16:13:12.318Z"
   },
   {
    "duration": 542,
    "start_time": "2022-02-27T16:14:52.425Z"
   },
   {
    "duration": 117,
    "start_time": "2022-02-27T16:15:24.018Z"
   },
   {
    "duration": 792,
    "start_time": "2022-02-27T16:15:31.002Z"
   },
   {
    "duration": 78,
    "start_time": "2022-02-27T16:18:42.666Z"
   },
   {
    "duration": 3198,
    "start_time": "2022-02-27T16:35:11.524Z"
   },
   {
    "duration": 1599,
    "start_time": "2022-02-27T16:35:14.725Z"
   },
   {
    "duration": 40,
    "start_time": "2022-02-27T16:35:16.330Z"
   },
   {
    "duration": 16,
    "start_time": "2022-02-27T16:35:16.372Z"
   },
   {
    "duration": 16,
    "start_time": "2022-02-27T16:35:16.392Z"
   },
   {
    "duration": 59,
    "start_time": "2022-02-27T16:35:16.410Z"
   },
   {
    "duration": 17,
    "start_time": "2022-02-27T16:35:16.474Z"
   },
   {
    "duration": 56,
    "start_time": "2022-02-27T16:35:16.495Z"
   },
   {
    "duration": 12,
    "start_time": "2022-02-27T16:35:16.555Z"
   },
   {
    "duration": 20,
    "start_time": "2022-02-27T16:35:16.570Z"
   },
   {
    "duration": 61,
    "start_time": "2022-02-27T16:35:16.593Z"
   },
   {
    "duration": 18,
    "start_time": "2022-02-27T16:35:16.657Z"
   },
   {
    "duration": 10,
    "start_time": "2022-02-27T16:35:16.678Z"
   },
   {
    "duration": 748,
    "start_time": "2022-02-27T16:35:16.691Z"
   },
   {
    "duration": 15,
    "start_time": "2022-02-27T16:35:17.442Z"
   },
   {
    "duration": 160,
    "start_time": "2022-02-27T16:35:17.460Z"
   },
   {
    "duration": 37,
    "start_time": "2022-02-27T16:35:17.622Z"
   },
   {
    "duration": 526,
    "start_time": "2022-02-27T16:35:17.661Z"
   },
   {
    "duration": 9,
    "start_time": "2022-02-27T16:35:18.189Z"
   },
   {
    "duration": 11,
    "start_time": "2022-02-27T16:35:18.201Z"
   },
   {
    "duration": 40,
    "start_time": "2022-02-27T16:35:18.215Z"
   },
   {
    "duration": 11,
    "start_time": "2022-02-27T16:35:18.260Z"
   },
   {
    "duration": 795,
    "start_time": "2022-02-27T16:35:18.274Z"
   },
   {
    "duration": 12,
    "start_time": "2022-02-27T16:35:19.072Z"
   },
   {
    "duration": 25,
    "start_time": "2022-02-27T16:35:19.086Z"
   },
   {
    "duration": 444,
    "start_time": "2022-02-27T16:35:19.114Z"
   },
   {
    "duration": 17,
    "start_time": "2022-02-27T16:35:19.561Z"
   },
   {
    "duration": 15,
    "start_time": "2022-02-27T16:35:19.581Z"
   },
   {
    "duration": 52,
    "start_time": "2022-02-27T16:35:19.599Z"
   },
   {
    "duration": 9,
    "start_time": "2022-02-27T16:35:19.654Z"
   },
   {
    "duration": 7,
    "start_time": "2022-02-27T16:35:19.665Z"
   },
   {
    "duration": 10,
    "start_time": "2022-02-27T16:35:19.675Z"
   },
   {
    "duration": 90,
    "start_time": "2022-02-27T16:35:19.687Z"
   },
   {
    "duration": 14,
    "start_time": "2022-02-27T16:35:19.780Z"
   },
   {
    "duration": 12,
    "start_time": "2022-02-27T16:35:19.797Z"
   },
   {
    "duration": 50,
    "start_time": "2022-02-27T16:35:19.812Z"
   },
   {
    "duration": 37,
    "start_time": "2022-02-27T16:35:19.866Z"
   },
   {
    "duration": 45,
    "start_time": "2022-02-27T16:35:19.906Z"
   },
   {
    "duration": 774,
    "start_time": "2022-02-27T16:35:19.954Z"
   },
   {
    "duration": -13,
    "start_time": "2022-02-27T16:35:20.745Z"
   },
   {
    "duration": -12,
    "start_time": "2022-02-27T16:35:20.747Z"
   },
   {
    "duration": -12,
    "start_time": "2022-02-27T16:35:20.749Z"
   },
   {
    "duration": -68,
    "start_time": "2022-02-27T16:35:20.819Z"
   },
   {
    "duration": -67,
    "start_time": "2022-02-27T16:35:20.821Z"
   },
   {
    "duration": -67,
    "start_time": "2022-02-27T16:35:20.823Z"
   },
   {
    "duration": -68,
    "start_time": "2022-02-27T16:35:20.826Z"
   },
   {
    "duration": -68,
    "start_time": "2022-02-27T16:35:20.828Z"
   },
   {
    "duration": 55,
    "start_time": "2022-02-27T16:56:19.391Z"
   },
   {
    "duration": 5,
    "start_time": "2022-02-27T16:57:18.286Z"
   },
   {
    "duration": 33,
    "start_time": "2022-02-27T16:57:29.655Z"
   },
   {
    "duration": 853,
    "start_time": "2022-02-27T16:57:50.416Z"
   },
   {
    "duration": 14663,
    "start_time": "2022-02-27T21:51:41.731Z"
   },
   {
    "duration": 1497,
    "start_time": "2022-02-27T21:51:56.397Z"
   },
   {
    "duration": 30,
    "start_time": "2022-02-27T21:51:57.898Z"
   },
   {
    "duration": 18,
    "start_time": "2022-02-27T21:51:57.931Z"
   },
   {
    "duration": 41,
    "start_time": "2022-02-27T21:51:57.952Z"
   },
   {
    "duration": 19,
    "start_time": "2022-02-27T21:51:57.996Z"
   },
   {
    "duration": 15,
    "start_time": "2022-02-27T21:51:58.017Z"
   },
   {
    "duration": 9,
    "start_time": "2022-02-27T21:51:58.035Z"
   },
   {
    "duration": 9,
    "start_time": "2022-02-27T21:51:58.083Z"
   },
   {
    "duration": 17,
    "start_time": "2022-02-27T21:51:58.095Z"
   },
   {
    "duration": 12,
    "start_time": "2022-02-27T21:51:58.114Z"
   },
   {
    "duration": 59,
    "start_time": "2022-02-27T21:51:58.129Z"
   },
   {
    "duration": 9,
    "start_time": "2022-02-27T21:51:58.191Z"
   },
   {
    "duration": 788,
    "start_time": "2022-02-27T21:51:58.203Z"
   },
   {
    "duration": 9,
    "start_time": "2022-02-27T21:51:58.994Z"
   },
   {
    "duration": 164,
    "start_time": "2022-02-27T21:51:59.006Z"
   },
   {
    "duration": 25,
    "start_time": "2022-02-27T21:51:59.173Z"
   },
   {
    "duration": 542,
    "start_time": "2022-02-27T21:51:59.200Z"
   },
   {
    "duration": 10,
    "start_time": "2022-02-27T21:51:59.745Z"
   },
   {
    "duration": 32,
    "start_time": "2022-02-27T21:51:59.758Z"
   },
   {
    "duration": 10,
    "start_time": "2022-02-27T21:51:59.793Z"
   },
   {
    "duration": 12,
    "start_time": "2022-02-27T21:51:59.805Z"
   },
   {
    "duration": 826,
    "start_time": "2022-02-27T21:51:59.825Z"
   },
   {
    "duration": 29,
    "start_time": "2022-02-27T21:52:00.655Z"
   },
   {
    "duration": 49,
    "start_time": "2022-02-27T21:52:00.686Z"
   },
   {
    "duration": 409,
    "start_time": "2022-02-27T21:52:00.738Z"
   },
   {
    "duration": 14,
    "start_time": "2022-02-27T21:52:01.150Z"
   },
   {
    "duration": 26,
    "start_time": "2022-02-27T21:52:01.166Z"
   },
   {
    "duration": 9,
    "start_time": "2022-02-27T21:52:01.195Z"
   },
   {
    "duration": 29,
    "start_time": "2022-02-27T21:52:01.206Z"
   },
   {
    "duration": 23,
    "start_time": "2022-02-27T21:52:01.238Z"
   },
   {
    "duration": 13,
    "start_time": "2022-02-27T21:52:01.264Z"
   },
   {
    "duration": 57,
    "start_time": "2022-02-27T21:52:01.280Z"
   },
   {
    "duration": 15,
    "start_time": "2022-02-27T21:52:01.340Z"
   },
   {
    "duration": 20,
    "start_time": "2022-02-27T21:52:01.357Z"
   },
   {
    "duration": 38,
    "start_time": "2022-02-27T21:52:01.379Z"
   },
   {
    "duration": 46,
    "start_time": "2022-02-27T21:52:01.419Z"
   },
   {
    "duration": 22,
    "start_time": "2022-02-27T21:52:01.467Z"
   },
   {
    "duration": 532,
    "start_time": "2022-02-27T21:52:01.491Z"
   },
   {
    "duration": 18,
    "start_time": "2022-02-27T21:52:02.025Z"
   },
   {
    "duration": 936,
    "start_time": "2022-02-27T21:52:02.046Z"
   },
   {
    "duration": 521,
    "start_time": "2022-02-27T21:52:02.463Z"
   },
   {
    "duration": 519,
    "start_time": "2022-02-27T21:52:02.467Z"
   },
   {
    "duration": 516,
    "start_time": "2022-02-27T21:52:02.471Z"
   },
   {
    "duration": 513,
    "start_time": "2022-02-27T21:52:02.475Z"
   },
   {
    "duration": 511,
    "start_time": "2022-02-27T21:52:02.478Z"
   },
   {
    "duration": 510,
    "start_time": "2022-02-27T21:52:02.481Z"
   },
   {
    "duration": 276,
    "start_time": "2022-02-28T04:14:58.317Z"
   },
   {
    "duration": 8028,
    "start_time": "2022-02-28T04:15:08.597Z"
   },
   {
    "duration": 1233,
    "start_time": "2022-02-28T04:15:16.627Z"
   },
   {
    "duration": 42,
    "start_time": "2022-02-28T04:15:17.862Z"
   },
   {
    "duration": 14,
    "start_time": "2022-02-28T04:15:17.906Z"
   },
   {
    "duration": 12,
    "start_time": "2022-02-28T04:15:17.921Z"
   },
   {
    "duration": 16,
    "start_time": "2022-02-28T04:15:17.935Z"
   },
   {
    "duration": 13,
    "start_time": "2022-02-28T04:15:17.952Z"
   },
   {
    "duration": 37,
    "start_time": "2022-02-28T04:15:17.968Z"
   },
   {
    "duration": 16,
    "start_time": "2022-02-28T04:15:18.007Z"
   },
   {
    "duration": 19,
    "start_time": "2022-02-28T04:15:18.025Z"
   },
   {
    "duration": 14,
    "start_time": "2022-02-28T04:15:18.045Z"
   },
   {
    "duration": 14,
    "start_time": "2022-02-28T04:15:18.061Z"
   },
   {
    "duration": 7,
    "start_time": "2022-02-28T04:15:18.077Z"
   },
   {
    "duration": 604,
    "start_time": "2022-02-28T04:15:18.101Z"
   },
   {
    "duration": 6,
    "start_time": "2022-02-28T04:15:18.707Z"
   },
   {
    "duration": 112,
    "start_time": "2022-02-28T04:15:18.715Z"
   },
   {
    "duration": 14,
    "start_time": "2022-02-28T04:15:18.829Z"
   },
   {
    "duration": 469,
    "start_time": "2022-02-28T04:15:18.845Z"
   },
   {
    "duration": 6,
    "start_time": "2022-02-28T04:15:19.316Z"
   },
   {
    "duration": 10,
    "start_time": "2022-02-28T04:15:19.324Z"
   },
   {
    "duration": 10,
    "start_time": "2022-02-28T04:15:19.336Z"
   },
   {
    "duration": 13,
    "start_time": "2022-02-28T04:15:19.348Z"
   },
   {
    "duration": 628,
    "start_time": "2022-02-28T04:15:19.366Z"
   },
   {
    "duration": 8,
    "start_time": "2022-02-28T04:15:19.997Z"
   },
   {
    "duration": 22,
    "start_time": "2022-02-28T04:15:20.007Z"
   },
   {
    "duration": 277,
    "start_time": "2022-02-28T04:15:20.031Z"
   },
   {
    "duration": 11,
    "start_time": "2022-02-28T04:15:20.309Z"
   },
   {
    "duration": 11,
    "start_time": "2022-02-28T04:15:20.322Z"
   },
   {
    "duration": 5,
    "start_time": "2022-02-28T04:15:20.334Z"
   },
   {
    "duration": 6,
    "start_time": "2022-02-28T04:15:20.340Z"
   },
   {
    "duration": 8,
    "start_time": "2022-02-28T04:15:20.348Z"
   },
   {
    "duration": 9,
    "start_time": "2022-02-28T04:15:20.358Z"
   },
   {
    "duration": 35,
    "start_time": "2022-02-28T04:15:20.369Z"
   },
   {
    "duration": 10,
    "start_time": "2022-02-28T04:15:20.406Z"
   },
   {
    "duration": 10,
    "start_time": "2022-02-28T04:15:20.418Z"
   },
   {
    "duration": 17,
    "start_time": "2022-02-28T04:15:20.431Z"
   },
   {
    "duration": 30,
    "start_time": "2022-02-28T04:15:20.450Z"
   },
   {
    "duration": 9,
    "start_time": "2022-02-28T04:15:20.482Z"
   },
   {
    "duration": 341,
    "start_time": "2022-02-28T04:15:20.493Z"
   },
   {
    "duration": 13,
    "start_time": "2022-02-28T04:15:20.836Z"
   },
   {
    "duration": 690,
    "start_time": "2022-02-28T04:15:20.851Z"
   },
   {
    "duration": 723,
    "start_time": "2022-02-28T04:15:20.819Z"
   },
   {
    "duration": 721,
    "start_time": "2022-02-28T04:15:20.822Z"
   },
   {
    "duration": 719,
    "start_time": "2022-02-28T04:15:20.825Z"
   },
   {
    "duration": 717,
    "start_time": "2022-02-28T04:15:20.828Z"
   },
   {
    "duration": 715,
    "start_time": "2022-02-28T04:15:20.831Z"
   },
   {
    "duration": 713,
    "start_time": "2022-02-28T04:15:20.834Z"
   },
   {
    "duration": 547,
    "start_time": "2022-02-28T04:16:30.658Z"
   },
   {
    "duration": 482,
    "start_time": "2022-02-28T04:17:27.234Z"
   },
   {
    "duration": 237,
    "start_time": "2022-02-28T04:18:09.722Z"
   },
   {
    "duration": 328,
    "start_time": "2022-02-28T04:18:29.997Z"
   },
   {
    "duration": 7,
    "start_time": "2022-02-28T04:19:02.406Z"
   },
   {
    "duration": 1029,
    "start_time": "2022-02-28T04:19:05.014Z"
   },
   {
    "duration": 219,
    "start_time": "2022-02-28T04:19:10.268Z"
   },
   {
    "duration": 12,
    "start_time": "2022-02-28T04:19:28.376Z"
   },
   {
    "duration": 4,
    "start_time": "2022-02-28T04:19:32.833Z"
   },
   {
    "duration": 5,
    "start_time": "2022-02-28T04:19:34.173Z"
   },
   {
    "duration": 425,
    "start_time": "2022-02-28T04:19:35.737Z"
   },
   {
    "duration": 435,
    "start_time": "2022-02-28T04:23:44.567Z"
   },
   {
    "duration": 415,
    "start_time": "2022-02-28T04:24:18.577Z"
   },
   {
    "duration": 591,
    "start_time": "2022-02-28T04:24:43.734Z"
   },
   {
    "duration": 381,
    "start_time": "2022-02-28T04:24:59.940Z"
   },
   {
    "duration": 4,
    "start_time": "2022-02-28T04:26:59.798Z"
   },
   {
    "duration": 219,
    "start_time": "2022-02-28T04:27:11.485Z"
   },
   {
    "duration": 436,
    "start_time": "2022-02-28T04:28:16.370Z"
   },
   {
    "duration": 599,
    "start_time": "2022-02-28T04:28:58.254Z"
   },
   {
    "duration": 444,
    "start_time": "2022-02-28T04:29:45.174Z"
   },
   {
    "duration": 522,
    "start_time": "2022-02-28T04:30:10.074Z"
   },
   {
    "duration": 399,
    "start_time": "2022-02-28T04:32:57.197Z"
   },
   {
    "duration": 4,
    "start_time": "2022-02-28T04:33:42.774Z"
   },
   {
    "duration": 396,
    "start_time": "2022-02-28T04:33:55.117Z"
   },
   {
    "duration": 425,
    "start_time": "2022-02-28T04:34:27.178Z"
   },
   {
    "duration": 707,
    "start_time": "2022-02-28T04:35:15.004Z"
   },
   {
    "duration": 649,
    "start_time": "2022-02-28T04:35:49.284Z"
   },
   {
    "duration": 420,
    "start_time": "2022-02-28T04:36:17.484Z"
   },
   {
    "duration": 419,
    "start_time": "2022-02-28T04:37:15.561Z"
   },
   {
    "duration": 629,
    "start_time": "2022-02-28T04:37:45.101Z"
   },
   {
    "duration": 698,
    "start_time": "2022-02-28T04:38:22.922Z"
   },
   {
    "duration": 747,
    "start_time": "2022-02-28T04:39:10.068Z"
   },
   {
    "duration": 386,
    "start_time": "2022-02-28T04:39:24.628Z"
   },
   {
    "duration": 607,
    "start_time": "2022-02-28T04:39:39.017Z"
   },
   {
    "duration": 587,
    "start_time": "2022-02-28T04:40:50.529Z"
   },
   {
    "duration": 598,
    "start_time": "2022-02-28T04:41:33.442Z"
   },
   {
    "duration": 563,
    "start_time": "2022-02-28T04:47:22.534Z"
   },
   {
    "duration": 4,
    "start_time": "2022-02-28T04:48:23.250Z"
   },
   {
    "duration": 573,
    "start_time": "2022-02-28T04:48:33.743Z"
   },
   {
    "duration": 536,
    "start_time": "2022-02-28T04:49:05.488Z"
   },
   {
    "duration": 557,
    "start_time": "2022-02-28T04:50:30.072Z"
   },
   {
    "duration": 70,
    "start_time": "2022-02-28T04:50:49.634Z"
   },
   {
    "duration": 451,
    "start_time": "2022-02-28T04:51:04.250Z"
   },
   {
    "duration": 414,
    "start_time": "2022-02-28T04:53:02.901Z"
   },
   {
    "duration": 691,
    "start_time": "2022-02-28T04:53:14.332Z"
   },
   {
    "duration": 601,
    "start_time": "2022-02-28T04:54:06.407Z"
   },
   {
    "duration": 448,
    "start_time": "2022-02-28T04:55:36.781Z"
   },
   {
    "duration": 14,
    "start_time": "2022-02-28T04:57:26.697Z"
   },
   {
    "duration": 461,
    "start_time": "2022-02-28T04:57:30.824Z"
   },
   {
    "duration": 453,
    "start_time": "2022-02-28T04:57:56.887Z"
   },
   {
    "duration": 447,
    "start_time": "2022-02-28T04:58:41.178Z"
   },
   {
    "duration": 14,
    "start_time": "2022-02-28T04:59:18.230Z"
   },
   {
    "duration": 244,
    "start_time": "2022-02-28T04:59:49.990Z"
   },
   {
    "duration": 333,
    "start_time": "2022-02-28T05:00:49.146Z"
   },
   {
    "duration": 385,
    "start_time": "2022-02-28T05:01:51.544Z"
   },
   {
    "duration": 445,
    "start_time": "2022-02-28T05:02:07.167Z"
   },
   {
    "duration": 407,
    "start_time": "2022-02-28T05:04:07.221Z"
   },
   {
    "duration": 518,
    "start_time": "2022-02-28T05:04:30.834Z"
   },
   {
    "duration": 531,
    "start_time": "2022-02-28T05:04:48.576Z"
   },
   {
    "duration": 426,
    "start_time": "2022-02-28T05:05:17.303Z"
   },
   {
    "duration": 451,
    "start_time": "2022-02-28T05:05:51.450Z"
   },
   {
    "duration": 394,
    "start_time": "2022-02-28T05:06:05.925Z"
   },
   {
    "duration": 628,
    "start_time": "2022-02-28T05:06:24.500Z"
   },
   {
    "duration": 587,
    "start_time": "2022-02-28T05:07:08.833Z"
   },
   {
    "duration": 362,
    "start_time": "2022-02-28T05:07:44.831Z"
   },
   {
    "duration": 623,
    "start_time": "2022-02-28T05:10:22.806Z"
   },
   {
    "duration": 231,
    "start_time": "2022-02-28T05:10:41.024Z"
   },
   {
    "duration": 260,
    "start_time": "2022-02-28T05:10:59.274Z"
   },
   {
    "duration": 242,
    "start_time": "2022-02-28T05:12:04.692Z"
   },
   {
    "duration": 366,
    "start_time": "2022-02-28T05:13:04.824Z"
   },
   {
    "duration": 585,
    "start_time": "2022-02-28T05:14:01.899Z"
   },
   {
    "duration": 623,
    "start_time": "2022-02-28T05:14:46.899Z"
   },
   {
    "duration": 592,
    "start_time": "2022-02-28T05:15:31.737Z"
   },
   {
    "duration": 546,
    "start_time": "2022-02-28T05:15:54.213Z"
   },
   {
    "duration": 458,
    "start_time": "2022-02-28T05:16:08.978Z"
   },
   {
    "duration": 470,
    "start_time": "2022-02-28T05:17:25.557Z"
   },
   {
    "duration": 499,
    "start_time": "2022-02-28T05:18:13.459Z"
   },
   {
    "duration": 404,
    "start_time": "2022-02-28T05:21:45.278Z"
   },
   {
    "duration": 382,
    "start_time": "2022-02-28T05:22:14.978Z"
   },
   {
    "duration": 357,
    "start_time": "2022-02-28T05:22:30.303Z"
   },
   {
    "duration": 195,
    "start_time": "2022-02-28T05:23:25.841Z"
   },
   {
    "duration": 322,
    "start_time": "2022-02-28T05:24:37.611Z"
   },
   {
    "duration": 307,
    "start_time": "2022-02-28T05:25:27.243Z"
   },
   {
    "duration": 308,
    "start_time": "2022-02-28T05:26:18.547Z"
   },
   {
    "duration": 332,
    "start_time": "2022-02-28T05:26:46.727Z"
   },
   {
    "duration": 443,
    "start_time": "2022-02-28T05:27:14.185Z"
   },
   {
    "duration": 328,
    "start_time": "2022-02-28T05:27:35.941Z"
   },
   {
    "duration": 470,
    "start_time": "2022-02-28T05:28:07.366Z"
   },
   {
    "duration": 608,
    "start_time": "2022-02-28T05:28:16.534Z"
   },
   {
    "duration": 460,
    "start_time": "2022-02-28T05:30:25.153Z"
   },
   {
    "duration": 454,
    "start_time": "2022-02-28T05:30:44.254Z"
   },
   {
    "duration": 402,
    "start_time": "2022-02-28T05:31:22.332Z"
   },
   {
    "duration": 2427,
    "start_time": "2022-02-28T05:32:06.597Z"
   },
   {
    "duration": 1258,
    "start_time": "2022-02-28T05:32:09.026Z"
   },
   {
    "duration": 30,
    "start_time": "2022-02-28T05:32:10.286Z"
   },
   {
    "duration": 13,
    "start_time": "2022-02-28T05:32:10.318Z"
   },
   {
    "duration": 15,
    "start_time": "2022-02-28T05:32:10.333Z"
   },
   {
    "duration": 35,
    "start_time": "2022-02-28T05:32:10.350Z"
   },
   {
    "duration": 27,
    "start_time": "2022-02-28T05:32:10.387Z"
   },
   {
    "duration": 20,
    "start_time": "2022-02-28T05:32:10.417Z"
   },
   {
    "duration": 24,
    "start_time": "2022-02-28T05:32:10.439Z"
   },
   {
    "duration": 38,
    "start_time": "2022-02-28T05:32:10.465Z"
   },
   {
    "duration": 21,
    "start_time": "2022-02-28T05:32:10.505Z"
   },
   {
    "duration": 33,
    "start_time": "2022-02-28T05:32:10.528Z"
   },
   {
    "duration": 13,
    "start_time": "2022-02-28T05:32:10.564Z"
   },
   {
    "duration": 548,
    "start_time": "2022-02-28T05:32:10.579Z"
   },
   {
    "duration": 6,
    "start_time": "2022-02-28T05:32:11.129Z"
   },
   {
    "duration": 106,
    "start_time": "2022-02-28T05:32:11.137Z"
   },
   {
    "duration": 13,
    "start_time": "2022-02-28T05:32:11.246Z"
   },
   {
    "duration": 473,
    "start_time": "2022-02-28T05:32:11.262Z"
   },
   {
    "duration": 7,
    "start_time": "2022-02-28T05:32:11.736Z"
   },
   {
    "duration": 60,
    "start_time": "2022-02-28T05:32:11.744Z"
   },
   {
    "duration": 10,
    "start_time": "2022-02-28T05:32:11.806Z"
   },
   {
    "duration": 20,
    "start_time": "2022-02-28T05:32:11.819Z"
   },
   {
    "duration": 534,
    "start_time": "2022-02-28T05:32:11.843Z"
   },
   {
    "duration": 8,
    "start_time": "2022-02-28T05:32:12.379Z"
   },
   {
    "duration": 34,
    "start_time": "2022-02-28T05:32:12.389Z"
   },
   {
    "duration": 270,
    "start_time": "2022-02-28T05:32:12.425Z"
   },
   {
    "duration": 12,
    "start_time": "2022-02-28T05:32:12.697Z"
   },
   {
    "duration": 10,
    "start_time": "2022-02-28T05:32:12.711Z"
   },
   {
    "duration": 3,
    "start_time": "2022-02-28T05:32:12.723Z"
   },
   {
    "duration": 9,
    "start_time": "2022-02-28T05:32:12.727Z"
   },
   {
    "duration": 10,
    "start_time": "2022-02-28T05:32:12.737Z"
   },
   {
    "duration": 8,
    "start_time": "2022-02-28T05:32:12.749Z"
   },
   {
    "duration": 58,
    "start_time": "2022-02-28T05:32:12.759Z"
   },
   {
    "duration": 10,
    "start_time": "2022-02-28T05:32:12.819Z"
   },
   {
    "duration": 10,
    "start_time": "2022-02-28T05:32:12.831Z"
   },
   {
    "duration": 12,
    "start_time": "2022-02-28T05:32:12.842Z"
   },
   {
    "duration": 51,
    "start_time": "2022-02-28T05:32:12.857Z"
   },
   {
    "duration": 12,
    "start_time": "2022-02-28T05:32:12.910Z"
   },
   {
    "duration": 348,
    "start_time": "2022-02-28T05:32:12.925Z"
   },
   {
    "duration": 26,
    "start_time": "2022-02-28T05:32:13.275Z"
   },
   {
    "duration": 477,
    "start_time": "2022-02-28T05:32:13.303Z"
   },
   {
    "duration": 6,
    "start_time": "2022-02-28T05:32:13.782Z"
   },
   {
    "duration": 965,
    "start_time": "2022-02-28T05:32:13.790Z"
   },
   {
    "duration": 10,
    "start_time": "2022-02-28T05:32:14.757Z"
   },
   {
    "duration": 23,
    "start_time": "2022-02-28T05:32:14.769Z"
   },
   {
    "duration": 17,
    "start_time": "2022-02-28T05:32:14.794Z"
   },
   {
    "duration": 495,
    "start_time": "2022-02-28T05:32:14.813Z"
   },
   {
    "duration": 2234,
    "start_time": "2022-06-08T15:20:42.130Z"
   },
   {
    "duration": 1193,
    "start_time": "2022-06-08T15:20:44.366Z"
   },
   {
    "duration": 82,
    "start_time": "2022-06-08T15:20:45.561Z"
   },
   {
    "duration": 13,
    "start_time": "2022-06-08T15:20:45.646Z"
   },
   {
    "duration": 17,
    "start_time": "2022-06-08T15:20:45.660Z"
   },
   {
    "duration": 17,
    "start_time": "2022-06-08T15:20:45.678Z"
   },
   {
    "duration": 26,
    "start_time": "2022-06-08T15:20:45.696Z"
   },
   {
    "duration": 41,
    "start_time": "2022-06-08T15:20:45.724Z"
   },
   {
    "duration": 28,
    "start_time": "2022-06-08T15:20:45.766Z"
   },
   {
    "duration": 15,
    "start_time": "2022-06-08T15:20:45.797Z"
   },
   {
    "duration": 31,
    "start_time": "2022-06-08T15:20:45.813Z"
   },
   {
    "duration": 29,
    "start_time": "2022-06-08T15:20:45.845Z"
   },
   {
    "duration": 22,
    "start_time": "2022-06-08T15:20:45.876Z"
   },
   {
    "duration": 185,
    "start_time": "2022-06-08T15:20:45.899Z"
   },
   {
    "duration": 7,
    "start_time": "2022-06-08T15:20:46.086Z"
   },
   {
    "duration": 136,
    "start_time": "2022-06-08T15:20:46.094Z"
   },
   {
    "duration": 14,
    "start_time": "2022-06-08T15:20:46.232Z"
   },
   {
    "duration": 343,
    "start_time": "2022-06-08T15:20:46.248Z"
   },
   {
    "duration": 7,
    "start_time": "2022-06-08T15:20:46.592Z"
   },
   {
    "duration": 12,
    "start_time": "2022-06-08T15:20:46.601Z"
   },
   {
    "duration": 8,
    "start_time": "2022-06-08T15:20:46.615Z"
   },
   {
    "duration": 10,
    "start_time": "2022-06-08T15:20:46.624Z"
   },
   {
    "duration": 389,
    "start_time": "2022-06-08T15:20:46.635Z"
   },
   {
    "duration": 10,
    "start_time": "2022-06-08T15:20:47.026Z"
   },
   {
    "duration": 36,
    "start_time": "2022-06-08T15:20:47.037Z"
   },
   {
    "duration": 226,
    "start_time": "2022-06-08T15:20:47.075Z"
   },
   {
    "duration": 12,
    "start_time": "2022-06-08T15:20:47.303Z"
   },
   {
    "duration": 17,
    "start_time": "2022-06-08T15:20:47.319Z"
   },
   {
    "duration": 20,
    "start_time": "2022-06-08T15:20:47.339Z"
   },
   {
    "duration": 10,
    "start_time": "2022-06-08T15:20:47.361Z"
   },
   {
    "duration": 17,
    "start_time": "2022-06-08T15:20:47.373Z"
   },
   {
    "duration": 11,
    "start_time": "2022-06-08T15:20:47.393Z"
   },
   {
    "duration": 34,
    "start_time": "2022-06-08T15:20:47.407Z"
   },
   {
    "duration": 10,
    "start_time": "2022-06-08T15:20:47.442Z"
   },
   {
    "duration": 31,
    "start_time": "2022-06-08T15:20:47.453Z"
   },
   {
    "duration": 12,
    "start_time": "2022-06-08T15:20:47.486Z"
   },
   {
    "duration": 18,
    "start_time": "2022-06-08T15:20:47.500Z"
   },
   {
    "duration": 6,
    "start_time": "2022-06-08T15:20:47.520Z"
   },
   {
    "duration": 240,
    "start_time": "2022-06-08T15:20:47.528Z"
   },
   {
    "duration": 13,
    "start_time": "2022-06-08T15:20:47.769Z"
   },
   {
    "duration": 436,
    "start_time": "2022-06-08T15:20:47.784Z"
   },
   {
    "duration": 6,
    "start_time": "2022-06-08T15:20:48.222Z"
   },
   {
    "duration": 844,
    "start_time": "2022-06-08T15:20:48.230Z"
   },
   {
    "duration": 10,
    "start_time": "2022-06-08T15:20:49.075Z"
   },
   {
    "duration": 16,
    "start_time": "2022-06-08T15:20:49.086Z"
   },
   {
    "duration": 12,
    "start_time": "2022-06-08T15:20:49.103Z"
   },
   {
    "duration": 353,
    "start_time": "2022-06-08T15:20:49.116Z"
   }
  ],
  "kernelspec": {
   "display_name": "Python 3 (ipykernel)",
   "language": "python",
   "name": "python3"
  },
  "language_info": {
   "codemirror_mode": {
    "name": "ipython",
    "version": 3
   },
   "file_extension": ".py",
   "mimetype": "text/x-python",
   "name": "python",
   "nbconvert_exporter": "python",
   "pygments_lexer": "ipython3",
   "version": "3.9.5"
  },
  "toc": {
   "base_numbering": 1,
   "nav_menu": {},
   "number_sections": true,
   "sideBar": true,
   "skip_h1_title": true,
   "title_cell": "Table of Contents",
   "title_sidebar": "Contents",
   "toc_cell": false,
   "toc_position": {},
   "toc_section_display": true,
   "toc_window_display": true
  }
 },
 "nbformat": 4,
 "nbformat_minor": 2
}
